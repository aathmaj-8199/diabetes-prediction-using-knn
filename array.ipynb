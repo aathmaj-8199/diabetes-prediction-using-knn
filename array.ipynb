{
  "nbformat": 4,
  "nbformat_minor": 0,
  "metadata": {
    "colab": {
      "provenance": [],
      "mount_file_id": "1EREq2nx2W-syx03ykk8ySsOCa3yOsuX1",
      "authorship_tag": "ABX9TyMafKHKmLu0T1aFt0Qs8hIl",
      "include_colab_link": true
    },
    "kernelspec": {
      "name": "python3",
      "display_name": "Python 3"
    },
    "language_info": {
      "name": "python"
    }
  },
  "cells": [
    {
      "cell_type": "markdown",
      "metadata": {
        "id": "view-in-github",
        "colab_type": "text"
      },
      "source": [
        "<a href=\"https://colab.research.google.com/github/aathmaj-8199/diabetes-prediction-using-knn/blob/main/array.ipynb\" target=\"_parent\"><img src=\"https://colab.research.google.com/assets/colab-badge.svg\" alt=\"Open In Colab\"/></a>"
      ]
    },
    {
      "cell_type": "code",
      "execution_count": null,
      "metadata": {
        "id": "aRGQn5ABWUKV"
      },
      "outputs": [],
      "source": [
        "import numpy as np"
      ]
    },
    {
      "cell_type": "code",
      "source": [
        "#array [1,2,3,4,\"a\"]\n",
        "\n",
        "#l=[1,2,3,4,\"a\"]\n",
        "l=[1,2,3,4,5.0]\n",
        "z=np.array(l)\n",
        "\n",
        "print(z[3])\n",
        "print(z[-2])\n",
        "print(z[0:3])\n",
        "print(z[0:3:2])\n",
        "print(z[-2:])\n",
        "\n",
        "print(z[-1::-1])\n",
        "\n",
        "print(type(z))\n",
        "\n",
        "\n",
        "print(np.array(l))"
      ],
      "metadata": {
        "colab": {
          "base_uri": "https://localhost:8080/"
        },
        "id": "CFckwncnXBfe",
        "outputId": "7b7fb65b-9292-4d0f-ce12-88de32cb1027"
      },
      "execution_count": null,
      "outputs": [
        {
          "output_type": "stream",
          "name": "stdout",
          "text": [
            "4.0\n",
            "4.0\n",
            "[1. 2. 3.]\n",
            "[1. 3.]\n",
            "[4. 5.]\n",
            "[5. 4. 3. 2. 1.]\n",
            "<class 'numpy.ndarray'>\n",
            "[1. 2. 3. 4. 5.]\n"
          ]
        }
      ]
    },
    {
      "cell_type": "code",
      "source": [
        "z=np.array([[1,2,3],[4,5,6]])\n",
        "\n",
        "y=np.array([[1,2,3,4,5]])\n",
        "\n",
        "print(z.ndim)\n",
        "print(y.ndim)\n",
        "print(z.shape)\n",
        "print(y.shape)"
      ],
      "metadata": {
        "colab": {
          "base_uri": "https://localhost:8080/"
        },
        "id": "d1ee5rFSZEHW",
        "outputId": "390f4d76-7e53-4fc4-ff2a-5c6a9c1aad8a"
      },
      "execution_count": null,
      "outputs": [
        {
          "output_type": "stream",
          "name": "stdout",
          "text": [
            "2\n",
            "2\n",
            "(2, 3)\n",
            "(1, 5)\n"
          ]
        }
      ]
    },
    {
      "cell_type": "code",
      "source": [
        "z=np.array([[1,2],[3,4],[5,6]])\n",
        "print(z.shape)\n",
        "print(z.size)\n",
        "\n",
        "y=np.array([[1,2,3,4],[5,6,7,8]])\n",
        "print(y.shape)\n",
        "print(y.size)\n"
      ],
      "metadata": {
        "colab": {
          "base_uri": "https://localhost:8080/"
        },
        "id": "tI8yhsZxazP4",
        "outputId": "5104a3ad-d432-42ae-9402-ae6419bda09c"
      },
      "execution_count": null,
      "outputs": [
        {
          "output_type": "stream",
          "name": "stdout",
          "text": [
            "(3, 2)\n",
            "6\n",
            "(2, 4)\n",
            "8\n"
          ]
        }
      ]
    },
    {
      "cell_type": "code",
      "source": [
        "z=np.array([[1,2,3,4],[5,6,7,8],[9,10,11,12],[13,14,15,16]])\n",
        "print(z)\n",
        "print(z.shape)\n",
        "print(z.ndim)\n",
        "print(z[0:2,2:])\n",
        "print(z[1,1])\n",
        "print(z[3,3])\n",
        "print(z[2:,2:])\n",
        "print(z[0,2])\n",
        "print(z[1,2:])\n",
        "print(z[0:2,1:3])\n",
        "print(z[2:,1:])\n",
        "print(z[0:3,1:])\n",
        "print(z[0:,0:2])\n",
        "print(z[1:3,1:3])\n",
        "\n"
      ],
      "metadata": {
        "id": "rxL8XiIKbjlB"
      },
      "execution_count": null,
      "outputs": []
    },
    {
      "cell_type": "code",
      "source": [
        "z=np.array([[1,2,3,4],[5,6,7,8],[9,10,11,12],[13,14,15,16]])\n",
        "\n",
        "print(z.size) #to get total number of values\n"
      ],
      "metadata": {
        "id": "ZeQCL4KAcKjM"
      },
      "execution_count": null,
      "outputs": []
    },
    {
      "cell_type": "code",
      "source": [
        "z=np.zeros([2,2],dtype=int) #dtype = to change the datatype\n",
        "z"
      ],
      "metadata": {
        "id": "gVveeTFEgFoh"
      },
      "execution_count": null,
      "outputs": []
    },
    {
      "cell_type": "code",
      "source": [
        "#zero matrix\n",
        "z=np.zeros([2,2,2],dtype=int)\n",
        "print(z)\n",
        "print(z.ndim)"
      ],
      "metadata": {
        "id": "n2zjHj_lgoIp"
      },
      "execution_count": null,
      "outputs": []
    },
    {
      "cell_type": "code",
      "source": [
        "#one matrix\n",
        "o=np.ones([2,2],dtype=complex)\n",
        "o"
      ],
      "metadata": {
        "id": "NH0mTmTJg5UH"
      },
      "execution_count": null,
      "outputs": []
    },
    {
      "cell_type": "code",
      "source": [
        "#matrix multiplication\n",
        "#create two 2x2 matixes"
      ],
      "metadata": {
        "id": "KPhI2Mz9ivje"
      },
      "execution_count": null,
      "outputs": []
    },
    {
      "cell_type": "code",
      "source": [
        "x=np.array([[1,2],[3,4]])\n",
        "y=np.array([[5,6],[7,8]])\n",
        "print(x+y)\n",
        "print(x-y)\n",
        "#print(x*y) #not matrix multiplication\n",
        "print(x@y) #matrix multiplication\n",
        "print(x.dot(y)) #matrix multiplication\n",
        "print(x/y) #matrix division"
      ],
      "metadata": {
        "id": "Ro6cWnSLi_Ap"
      },
      "execution_count": null,
      "outputs": []
    },
    {
      "cell_type": "code",
      "source": [
        "#full matrix\n",
        "x=np.full([2,5],7)\n",
        "x"
      ],
      "metadata": {
        "id": "Lk3bJwkKluJf"
      },
      "execution_count": null,
      "outputs": []
    },
    {
      "cell_type": "code",
      "source": [
        "#identity matrix #square matrix where all diagonal elements are 1 and and all other elements are 0\n",
        "z=np.identity(2,dtype=int)\n",
        "z"
      ],
      "metadata": {
        "id": "7kFK88l5nHVy"
      },
      "execution_count": null,
      "outputs": []
    },
    {
      "cell_type": "code",
      "source": [
        "z=np.identity(5,dtype=int)\n",
        "z\n",
        "z=np.eye(6,dtype=int)\n",
        "z"
      ],
      "metadata": {
        "id": "OHtqiBTUnhLj"
      },
      "execution_count": null,
      "outputs": []
    },
    {
      "cell_type": "code",
      "source": [
        "#reshape to change the shape of a array\n",
        "\n",
        "z=np.array([1,2,3,4,5,6,7,8,9,10,11,12])\n",
        "b=z.reshape(1,-1) #convert into two dimension\n",
        "a=z.reshape(4,3) #should be 12 elements(4x3)\n",
        "\n",
        "print(z.size)\n",
        "print(z)\n",
        "print(a)\n",
        "print(b)\n",
        "#print(z.shape)"
      ],
      "metadata": {
        "id": "FLAt8qpXoF-s"
      },
      "execution_count": null,
      "outputs": []
    },
    {
      "cell_type": "code",
      "source": [
        "#numpy\n",
        "import numpy as np\n",
        "\n",
        "#arrange\n",
        "\n",
        "z=np.arange(1,10,2)\n",
        "z"
      ],
      "metadata": {
        "id": "dik4ALPYfaZf"
      },
      "execution_count": null,
      "outputs": []
    },
    {
      "cell_type": "code",
      "source": [
        "#create a 5x2 matrix using\n",
        "\n",
        "x=np.arange(1,11).reshape(5,2)\n",
        "x"
      ],
      "metadata": {
        "id": "JCgiUkaSgaui"
      },
      "execution_count": null,
      "outputs": []
    },
    {
      "cell_type": "code",
      "source": [
        "#create a 3x3 matrix wth float values\n",
        "\n",
        "z=np.array([[1.3,2.3,5.1],[5.3,5.6,1.7],[3.4,5.6,7.4]])\n",
        "z.shape"
      ],
      "metadata": {
        "id": "nl3GWCFZhDKM"
      },
      "execution_count": null,
      "outputs": []
    },
    {
      "cell_type": "code",
      "source": [
        "#floor #back integer\n",
        "np.floor(z)"
      ],
      "metadata": {
        "id": "5LaIbre9h26y"
      },
      "execution_count": null,
      "outputs": []
    },
    {
      "cell_type": "code",
      "source": [
        "#ceil #front integer\n",
        "np.ceil(z)"
      ],
      "metadata": {
        "id": "i23UWKZfiJu2"
      },
      "execution_count": null,
      "outputs": []
    },
    {
      "cell_type": "code",
      "source": [
        "#round function #during 1.5,2.5 rounding the number to the nearest even number\n",
        "np.round(z)"
      ],
      "metadata": {
        "id": "ZOROyGNdiZGB"
      },
      "execution_count": null,
      "outputs": []
    },
    {
      "cell_type": "code",
      "source": [
        "#create a 3x3 matrix\n",
        "\n",
        "z=np.arange(1,10).reshape(3,3)\n",
        "np.max(z)\n",
        "np.min(z)\n",
        "z"
      ],
      "metadata": {
        "id": "_nAxTGj_i6Bw"
      },
      "execution_count": null,
      "outputs": []
    },
    {
      "cell_type": "code",
      "source": [
        "np.max(z,axis=0)"
      ],
      "metadata": {
        "id": "gIJk_hyAlWzB"
      },
      "execution_count": null,
      "outputs": []
    },
    {
      "cell_type": "code",
      "source": [
        "np.max(z,axis=1)"
      ],
      "metadata": {
        "id": "pxZdHy5_l7gd"
      },
      "execution_count": null,
      "outputs": []
    },
    {
      "cell_type": "code",
      "source": [
        "#row min np.min(z),axis=1\n",
        "#column vise minimum\n",
        "\n",
        "np.min(z,axis=1)"
      ],
      "metadata": {
        "id": "dZleAAAxmR3R"
      },
      "execution_count": null,
      "outputs": []
    },
    {
      "cell_type": "code",
      "source": [
        "np.sum(z)\n",
        "np.sum(z,axis=1)\n",
        "#np.sum(z,axis=0)"
      ],
      "metadata": {
        "id": "M_apu0v6mx4y"
      },
      "execution_count": null,
      "outputs": []
    },
    {
      "cell_type": "code",
      "source": [
        "np.sin(z)\n",
        "np.cos(z)\n",
        "np.tan(z)\n",
        "np.sqrt(z)"
      ],
      "metadata": {
        "id": "J96EkGExnK0B"
      },
      "execution_count": null,
      "outputs": []
    },
    {
      "cell_type": "code",
      "source": [
        "#flatten #convert to one dimension\n",
        "z.flatten()"
      ],
      "metadata": {
        "id": "kYN3o3rBnsEm"
      },
      "execution_count": null,
      "outputs": []
    },
    {
      "cell_type": "code",
      "source": [
        "z=np.array([[3,2,1],[6,4,7],[7,8,5]])\n",
        "print(z)\n",
        "\n",
        "a=np.sort(z,axis=1)\n",
        "print(a)\n",
        "b=np.argsort(z,axis=1)\n",
        "print(b)"
      ],
      "metadata": {
        "id": "R7UX5NzQobXa"
      },
      "execution_count": null,
      "outputs": []
    },
    {
      "cell_type": "code",
      "source": [
        "#pandas\n",
        "\n",
        "import pandas as pd"
      ],
      "metadata": {
        "id": "NdXChW8Zr9ci"
      },
      "execution_count": null,
      "outputs": []
    },
    {
      "cell_type": "code",
      "source": [
        "#create array of add numbers upto 100\n",
        "\n",
        "x=np.arange(1,101,2)\n",
        "x"
      ],
      "metadata": {
        "id": "zOxfU4tGsGbA"
      },
      "execution_count": null,
      "outputs": []
    },
    {
      "cell_type": "code",
      "source": [
        "#series\n",
        "\n",
        "y=pd.Series(x)\n",
        "y\n",
        "y.ndim\n",
        "y.shape\n",
        "y.size"
      ],
      "metadata": {
        "id": "Nez1t9stsWIk"
      },
      "execution_count": null,
      "outputs": []
    },
    {
      "cell_type": "code",
      "source": [
        "#head\n",
        "\n",
        "y.head()\n",
        "\n",
        "#tail\n",
        "\n",
        "y.tail(2)"
      ],
      "metadata": {
        "id": "NrNUDBzfssz8"
      },
      "execution_count": null,
      "outputs": []
    },
    {
      "cell_type": "code",
      "source": [
        "a=pd.Series([1,2,3,4,5])\n",
        "b=pd.Series([10,20,30,40,50])\n",
        "b"
      ],
      "metadata": {
        "id": "bTa6TKFtt5Qx"
      },
      "execution_count": null,
      "outputs": []
    },
    {
      "cell_type": "code",
      "source": [
        "c=pd.concat([a,b])\n",
        "c"
      ],
      "metadata": {
        "id": "hcrx3bY6uLvM"
      },
      "execution_count": null,
      "outputs": []
    },
    {
      "cell_type": "code",
      "source": [
        "c=pd.concat([a,b],ignore_index=True)\n",
        "c"
      ],
      "metadata": {
        "id": "A5FhMxUhuz4L"
      },
      "execution_count": null,
      "outputs": []
    },
    {
      "cell_type": "code",
      "source": [
        "q=a.add(b)\n",
        "q"
      ],
      "metadata": {
        "id": "IE9QMpt7vBBY"
      },
      "execution_count": null,
      "outputs": []
    },
    {
      "cell_type": "code",
      "source": [
        "a.sub(b)"
      ],
      "metadata": {
        "id": "NragR-MovPzY"
      },
      "execution_count": null,
      "outputs": []
    },
    {
      "cell_type": "code",
      "source": [
        "a.mul(b)"
      ],
      "metadata": {
        "id": "0rPrNcGhvU_p"
      },
      "execution_count": null,
      "outputs": []
    },
    {
      "cell_type": "code",
      "source": [
        "a.div(b)"
      ],
      "metadata": {
        "id": "HXajD_xrvXZS"
      },
      "execution_count": null,
      "outputs": []
    },
    {
      "cell_type": "code",
      "source": [
        "a=pd.Series([1,2,3,4,5],index=['a','b','c','d','e'])\n",
        "a"
      ],
      "metadata": {
        "id": "kMba0TAtxJYg"
      },
      "execution_count": null,
      "outputs": []
    },
    {
      "cell_type": "code",
      "source": [
        "d={\"name\":\"apple\",\"age\":23,\"class\":3}\n",
        "c=pd.Series(d)\n",
        "c"
      ],
      "metadata": {
        "id": "fVZFmJ2LxmCz"
      },
      "execution_count": null,
      "outputs": []
    },
    {
      "cell_type": "code",
      "source": [
        "d={\"name\":\"apple\",\"age\":23,\"class\":3}\n",
        "c=pd.Series(d,index=['name','age','class',\"rollno\"])\n",
        "c"
      ],
      "metadata": {
        "id": "T2-hMjr3x5Wb"
      },
      "execution_count": null,
      "outputs": []
    },
    {
      "cell_type": "code",
      "source": [
        "e=pd.Series(4,index=['a','b','c','d','e'])\n",
        "e"
      ],
      "metadata": {
        "id": "vVk64OgsylR_"
      },
      "execution_count": null,
      "outputs": []
    },
    {
      "cell_type": "code",
      "source": [
        "#dataframe\n",
        "import pandas as pd\n"
      ],
      "metadata": {
        "id": "gOfc0GdB8nMf"
      },
      "execution_count": null,
      "outputs": []
    },
    {
      "cell_type": "code",
      "source": [
        "l=[1,2,3,4] #data frame from list\n",
        "\n",
        "df=pd.DataFrame(l,columns=['a'])\n",
        "df"
      ],
      "metadata": {
        "id": "9WUdT5bb8yM0"
      },
      "execution_count": null,
      "outputs": []
    },
    {
      "cell_type": "code",
      "source": [
        "#data frame from nested list\n",
        "\n",
        "l=[[\"apple\",1],[\"orange\",2],[\"mango\",3]]\n",
        "\n",
        "df=pd.DataFrame(l,columns=[\"fruits\",\"price\"],index=[\"a\",\"b\",\"c\"])\n",
        "\n",
        "df"
      ],
      "metadata": {
        "id": "IxJmD8Ds9Meh"
      },
      "execution_count": null,
      "outputs": []
    },
    {
      "cell_type": "code",
      "source": [
        "#create a dataframe with id name location and add 4 rows\n",
        "\n",
        "l=[[1,\"john\",\"newyork\"],[2,\"ben\",\"austria\"],[3,\"rohan\",\"india\"],[4,\"pedro\",\"russia\"]]\n",
        "df=pd.DataFrame(l,columns=[\"ID\",\"Name\",\"Location\"],index=[\"a\",\"b\",\"c\",\"d\"])\n",
        "df"
      ],
      "metadata": {
        "id": "QI0ElXWN96xj"
      },
      "execution_count": null,
      "outputs": []
    },
    {
      "cell_type": "code",
      "source": [
        "#create dataframe from dictionary and list\n",
        "\n",
        "d={\"id\":[1,2,3,4,5],\"name\":[\"apple\",\"orange\",\"mango\",\"grapes\",\"lemon\"]}\n",
        "\n",
        "df=pd.DataFrame(d)\n",
        "df"
      ],
      "metadata": {
        "id": "2nIOz7jPAuWU"
      },
      "execution_count": null,
      "outputs": []
    },
    {
      "cell_type": "code",
      "source": [
        "#create dataframe from list of dictionaries\n",
        "\n",
        "l=[{\"fruits\":\"apple\",\"price\":20},{\"fruits\":\"orange\",\"price\":40}]\n",
        "\n",
        "df=pd.DataFrame(l,index=[\"a\",\"b\"])\n",
        "df"
      ],
      "metadata": {
        "id": "DUq1nRbjB2a1"
      },
      "execution_count": null,
      "outputs": []
    },
    {
      "cell_type": "code",
      "source": [
        "#create a dataframe that have id,name,age,salary,profession 5 rows\n",
        "#add a new column gender\n",
        "#find first two rows\n",
        "#find last two rows\n",
        "#find total rows and columns\n",
        "#find total number of elements\n",
        "#find total columns\n",
        "#display gender and age\n",
        "d={\"id\":[1,2,3,4,5],\"name\":[\"john\",\"bob\",\"rohan\",\"sofi\",\"pedro\"],\"age\":[20,30,25,40,28],\"salary\":[25000,22000,18000,10000,15000],\"profession\":[\"engineer\",\"electrician\",\"plumber\",\"cleaner\",\"security\"]}\n",
        "df=pd.DataFrame(d,index=[\"a\",\"b\",\"c\",\"d\",\"e\"])\n",
        "df[\"gender\"]=[\"M\",\"M\",\"M\",\"F\",\"M\"]\n",
        "df\n",
        "print(df.head(2))\n",
        "print(df.tail(2))\n",
        "print(df.shape)\n",
        "print(df.size)\n",
        "#print(\"total no of columns:\",df.shape[1])\n",
        "print(df.columns)\n",
        "print(display(df[[\"gender\",\"age\"]]))\n"
      ],
      "metadata": {
        "id": "2zh1kFh8C0E_"
      },
      "execution_count": null,
      "outputs": []
    },
    {
      "cell_type": "code",
      "source": [
        "#create data from dictionary and series\n",
        "d={\"id\":pd.Series([1,2,3,4,5]),\"name\":pd.Series([\"apple\",\"orange\",\"mango\",\"grapes\",\"lemon\"])}\n",
        "\n",
        "df=pd.DataFrame(d)\n",
        "df\n"
      ],
      "metadata": {
        "id": "al7MgBRSIZvO"
      },
      "execution_count": null,
      "outputs": []
    },
    {
      "cell_type": "code",
      "source": [
        "d={\"id\":[1,2,3,4,5],\"name\":[\"john\",\"bob\",\"rohan\",\"sofi\",\"pedro\"],\"age\":[20,30,25,40,28],\"salary\":[25000,22000,18000,10000,15000],\"profession\":[\"engineer\",\"electrician\",\"plumber\",\"cleaner\",\"security\"]}\n",
        "df=pd.DataFrame(d,index=[\"a\",\"b\",\"c\",\"d\",\"e\"])\n",
        "df[\"gender\"]=[\"M\",\"M\",\"M\",\"F\",\"M\"]\n",
        "df\n",
        "df.info()\n",
        "df.describe()\n",
        "df.describe(include=\"O\")\n",
        "df.describe(include=\"all\")"
      ],
      "metadata": {
        "id": "Kg92eFA2KOxH"
      },
      "execution_count": null,
      "outputs": []
    },
    {
      "cell_type": "code",
      "source": [
        "import pandas as pd\n",
        "df=pd.read_csv(\"/lung_cancer_examples.csv\")\n",
        "df"
      ],
      "metadata": {
        "id": "lbcO-R3EKZO6"
      },
      "execution_count": null,
      "outputs": []
    },
    {
      "cell_type": "code",
      "source": [
        "#display name and age\n",
        "#display top 10 rows\n",
        "#display total number of rows and columns\n",
        "#get the infromation about this data set\n",
        "#find the shape and size"
      ],
      "metadata": {
        "id": "9JFIxx-LG6Kh"
      },
      "execution_count": null,
      "outputs": []
    },
    {
      "cell_type": "code",
      "source": [
        "import numpy as np\n",
        "import pandas as pd\n",
        "df=pd.read_csv(\"/lung_cancer_examples.csv\")\n",
        "df\n",
        "print(df[[\"Name\",\"Age\"]])\n",
        "print(df.head(10))\n",
        "print(df.shape)\n",
        "df.info()\n",
        "print(np.shape(df),df.size)\n"
      ],
      "metadata": {
        "id": "ptgEQfrVHwZK"
      },
      "execution_count": null,
      "outputs": []
    },
    {
      "cell_type": "code",
      "source": [
        "import numpy as np\n",
        "import pandas as pd\n",
        "df=pd.read_csv(\"/Mall_Customers.csv\")\n",
        "df"
      ],
      "metadata": {
        "id": "_sKWxaeeKBnH"
      },
      "execution_count": null,
      "outputs": []
    },
    {
      "cell_type": "code",
      "source": [
        "#display only first five observations\n",
        "\n",
        "print(df.head(5))\n",
        "\n",
        "#display last five observations\n",
        "\n",
        "print(df.tail(5))\n",
        "\n",
        "#find number of rows and columns\n",
        "\n",
        "print(df.shape)\n",
        "\n",
        "#display column names\n",
        "\n",
        "print(df.columns)\n",
        "\n",
        "#find total number of data\n",
        "\n",
        "print(np.size(df))\n",
        "#or\n",
        "df.size\n",
        "\n",
        "print(df.info())\n",
        "\n",
        "print(df.describe())\n",
        "\n",
        "#to find missing values\n",
        "\n",
        "df.isna().sum()\n",
        "\n",
        "df.isnull().sum()\n",
        "\n",
        "\n"
      ],
      "metadata": {
        "id": "vWQRs-oNKbs7"
      },
      "execution_count": null,
      "outputs": []
    },
    {
      "cell_type": "code",
      "source": [
        "#iloc\n",
        "\n",
        "df.iloc[20:31:2]"
      ],
      "metadata": {
        "id": "6Bogo883NgEv"
      },
      "execution_count": null,
      "outputs": []
    },
    {
      "cell_type": "code",
      "source": [
        "df.iloc[20:31:2][[\"CustomerID\",\"Age\"]]"
      ],
      "metadata": {
        "id": "IHY0cLG-Nvri"
      },
      "execution_count": null,
      "outputs": []
    },
    {
      "cell_type": "code",
      "source": [
        "df.iloc[:,-1]\n",
        "\n"
      ],
      "metadata": {
        "id": "RGfbz6HCOb3G"
      },
      "execution_count": null,
      "outputs": []
    },
    {
      "cell_type": "code",
      "source": [
        "df.iloc[:,0:2]"
      ],
      "metadata": {
        "id": "3rO4FuuLPxGc"
      },
      "execution_count": null,
      "outputs": []
    },
    {
      "cell_type": "code",
      "source": [
        "#print customer id age spending score\n",
        "df.iloc[:,[0,2,4]]\n",
        "df[[\"CustomerID\",\"Age\",\"Spending Score (1-100)\"]]\n",
        "df.iloc[:,0::2]"
      ],
      "metadata": {
        "id": "NWsZ7SaiO3s-"
      },
      "execution_count": null,
      "outputs": []
    },
    {
      "cell_type": "code",
      "source": [
        "#60-70 observations with costumer id and age and spending score\n",
        "\n",
        "df.iloc[60:71][[\"CustomerID\",\"Age\",\"Spending Score (1-100)\"]]\n"
      ],
      "metadata": {
        "id": "X9p7_n24RU0_"
      },
      "execution_count": null,
      "outputs": []
    },
    {
      "cell_type": "code",
      "source": [
        "#store full rows except spending score to variable x\n",
        "x=df.iloc[:,0:4]\n",
        "x"
      ],
      "metadata": {
        "id": "0YpUx6upRs8O"
      },
      "execution_count": null,
      "outputs": []
    },
    {
      "cell_type": "code",
      "source": [
        "#store spending score to variable y\n",
        "\n",
        "y=df.iloc[:,-1]\n",
        "y"
      ],
      "metadata": {
        "id": "ILdj4Oi1SCHZ"
      },
      "execution_count": null,
      "outputs": []
    },
    {
      "cell_type": "code",
      "source": [
        "import numpy as np\n",
        "import pandas as pd\n",
        "df=pd.read_csv(\"/netflix_titles.csv\")\n",
        "df"
      ],
      "metadata": {
        "id": "10PJa0NKTKYB"
      },
      "execution_count": null,
      "outputs": []
    },
    {
      "cell_type": "code",
      "source": [
        "df.isnull().sum()"
      ],
      "metadata": {
        "id": "QEvClvuBTY6R"
      },
      "execution_count": null,
      "outputs": []
    },
    {
      "cell_type": "code",
      "source": [
        "df.dropna(inplace=True) #to remove null rows\n",
        "df"
      ],
      "metadata": {
        "id": "qY8TsFZmUZYg"
      },
      "execution_count": null,
      "outputs": []
    },
    {
      "cell_type": "code",
      "source": [
        "df.drop_duplicates(inplace=True) #to remove duplicates\n",
        "df"
      ],
      "metadata": {
        "id": "XXswrwchU_Wu"
      },
      "execution_count": null,
      "outputs": []
    },
    {
      "cell_type": "code",
      "source": [
        "df.isna().sum()"
      ],
      "metadata": {
        "id": "1GSASO-8XEJf"
      },
      "execution_count": null,
      "outputs": []
    },
    {
      "cell_type": "code",
      "source": [
        "df['country'].fillna(\"India\",inplace=True) #to replace null values to India"
      ],
      "metadata": {
        "id": "W-0ceeMJXp6C"
      },
      "execution_count": null,
      "outputs": []
    },
    {
      "cell_type": "code",
      "source": [
        "import pandas as pd\n",
        "df=pd.read_csv(\"/Mall_Customers.csv\")\n",
        "df"
      ],
      "metadata": {
        "id": "iMeVh1wOZjIK"
      },
      "execution_count": null,
      "outputs": []
    },
    {
      "cell_type": "code",
      "source": [
        "#display data with age=28\n",
        "#age>20 spending score > 70 and gender male\n",
        "df.loc[df['Age']==28]\n",
        "df"
      ],
      "metadata": {
        "id": "d4kirm_4aDok"
      },
      "execution_count": null,
      "outputs": []
    },
    {
      "cell_type": "code",
      "source": [
        "df.loc[(df['Age']>20) & (df['Spending Score (1-100)']>70) & (df['Genre']=='Male')]\n",
        "df"
      ],
      "metadata": {
        "id": "IlZEus70ai7q"
      },
      "execution_count": null,
      "outputs": []
    },
    {
      "cell_type": "code",
      "source": [
        "#spending score 20 with customer id and Age\n",
        "\n",
        "df.loc[df['Spending Score (1-100)']==20][['CustomerID','Age']]\n",
        "df"
      ],
      "metadata": {
        "id": "I3XuUCENbjDc"
      },
      "execution_count": null,
      "outputs": []
    },
    {
      "cell_type": "code",
      "source": [
        "#male , annual income=15 and spending score 6 above\n",
        "\n",
        "df.loc[(df['Genre']=='Male') & (df['Annual Income (k$)']==15) & (df['Spending Score (1-100)']>6)]\n"
      ],
      "metadata": {
        "id": "_ZuLAxXqb-ka"
      },
      "execution_count": null,
      "outputs": []
    },
    {
      "cell_type": "code",
      "source": [
        "#display person with age>30 and spending score <40\n",
        "\n",
        "df.loc[(df['Age']>30) & (df['Spending Score (1-100)']<40)]"
      ],
      "metadata": {
        "id": "vDJo2_3Zcvz3"
      },
      "execution_count": null,
      "outputs": []
    },
    {
      "cell_type": "code",
      "source": [
        "#homework#upload a dataset\n",
        "#add column names if not given\n",
        "#find number of rows and columns\n",
        "#find is there any missing values\n",
        "#display a particular column with particular condition(> < ==)\n",
        "#split the data into x and y based on class label\n",
        "#display observations from index 10 to 30 and have only one column"
      ],
      "metadata": {
        "id": "diYGEgGvd36c"
      },
      "execution_count": null,
      "outputs": []
    },
    {
      "cell_type": "code",
      "source": [
        "import pandas as pd\n",
        "df=pd.read_csv(\"/netflix_titles.csv\")\n",
        "df"
      ],
      "metadata": {
        "id": "3WnuKkQGL134"
      },
      "execution_count": null,
      "outputs": []
    },
    {
      "cell_type": "code",
      "source": [
        "#find number of rows and columns\n",
        "df.shape"
      ],
      "metadata": {
        "id": "lsOMcs3OPHRB"
      },
      "execution_count": null,
      "outputs": []
    },
    {
      "cell_type": "code",
      "source": [
        "#find is there any missing values\n",
        "df.isnull().sum()"
      ],
      "metadata": {
        "id": "hOo7XoFGPphv"
      },
      "execution_count": null,
      "outputs": []
    },
    {
      "cell_type": "code",
      "source": [
        "#display a particular column with particular condition(> < ==)\n",
        "df.loc[(df['release_year']>2010)&(df['duration']==\"2 Seasons\")][[\"title\",\"director\"]]"
      ],
      "metadata": {
        "id": "ujhOCEePQISh"
      },
      "execution_count": null,
      "outputs": []
    },
    {
      "cell_type": "code",
      "source": [
        "#split the data into x and y based on class label\n"
      ],
      "metadata": {
        "id": "hIdzN2PXQWoO"
      },
      "execution_count": null,
      "outputs": []
    },
    {
      "cell_type": "code",
      "source": [
        "#display observations from index 10 to 30 and have only one column\n",
        "df.iloc[10:31,0]"
      ],
      "metadata": {
        "id": "G5_UHJk1QdoJ"
      },
      "execution_count": null,
      "outputs": []
    },
    {
      "cell_type": "code",
      "source": [
        "df[\"director\"].fillna(\"chrsitopher nolan\",inplace=True)"
      ],
      "metadata": {
        "id": "4V2aTYR3Vl1o"
      },
      "execution_count": null,
      "outputs": []
    },
    {
      "cell_type": "code",
      "source": [
        "#print 30 to 40 rows with customer id and age\n",
        "\n",
        "df.iloc[30:41][[\"CustomerID\",\"Age\"]]"
      ],
      "metadata": {
        "id": "bVZLdqdIflJQ"
      },
      "execution_count": null,
      "outputs": []
    },
    {
      "cell_type": "code",
      "source": [
        "#AGE=30 customer id and age\n",
        "\n",
        "df.loc[df['Age']==30][['CustomerID','Age']]"
      ],
      "metadata": {
        "id": "xvtK5Sp9gLMi"
      },
      "execution_count": null,
      "outputs": []
    },
    {
      "cell_type": "code",
      "source": [
        "#rename the column genre to gender\n",
        "\n",
        "df.rename(columns={\"Genre\":\"Gender\"},inplace=True)\n",
        "df"
      ],
      "metadata": {
        "id": "t7x15fQ6g1Aw"
      },
      "execution_count": null,
      "outputs": []
    },
    {
      "cell_type": "code",
      "source": [
        "df.sort_values(by=\"Age\",ascending=False)"
      ],
      "metadata": {
        "id": "BvxVomlphLgM"
      },
      "execution_count": null,
      "outputs": []
    },
    {
      "cell_type": "code",
      "source": [
        "df.sort_values(by=\"Age\",ascending=False).head(1)[['CustomerID','Gender']]"
      ],
      "metadata": {
        "id": "1wgWI7FVhkeB"
      },
      "execution_count": null,
      "outputs": []
    },
    {
      "cell_type": "code",
      "source": [
        "#30 age,highest spending score, gender\n",
        "\n",
        "df.loc[df['Age']==30].sort_values(by='Spending Score (1-100)',ascending=False).head(1)[['Gender']]"
      ],
      "metadata": {
        "id": "iOjCYI1YiJZI"
      },
      "execution_count": null,
      "outputs": []
    },
    {
      "cell_type": "code",
      "source": [
        "#annual income 120\n",
        "\n",
        "df.loc[df['Annual Income (k$)']==120]"
      ],
      "metadata": {
        "id": "3_iYJqC5jO7N"
      },
      "execution_count": null,
      "outputs": []
    },
    {
      "cell_type": "code",
      "source": [
        "#highest spending score 5 people\n",
        "\n",
        "df.sort_values(by='Spending Score (1-100)',ascending=False).head(5)"
      ],
      "metadata": {
        "id": "SIs7MfH1jbU6"
      },
      "execution_count": null,
      "outputs": []
    },
    {
      "cell_type": "code",
      "source": [
        "df.sort_values(by='Spending Score (1-100)',ascending=False).head(5)[[\"Gender\",\"Age\"]]"
      ],
      "metadata": {
        "id": "_5in4URcjufK"
      },
      "execution_count": null,
      "outputs": []
    },
    {
      "cell_type": "code",
      "source": [
        "import pandas as pd\n",
        "df=pd.read_csv(\"/netflix_titles.csv\")\n",
        "df"
      ],
      "metadata": {
        "id": "zuERVJOzkdHz"
      },
      "execution_count": null,
      "outputs": []
    },
    {
      "cell_type": "code",
      "source": [
        "#print the details of netflix titles with duration 1 season and rating is TV-MA\n",
        "#print the details of netflix titles with latest release\n",
        "#print the details of netflix titles with oldest release\n",
        "#find latest released movie with Julien lecleracq as director\n",
        "#print the show id and type of the netflix title whose release date lessthan 2020\n",
        "#find the oldest released movie with moviw  type with country southafrica and title Blood & water\n",
        "#find the show_id and type of the netflix title of latest released show with duration 2 seasons which is a tv show\n",
        "#change the column name director and producer"
      ],
      "metadata": {
        "id": "C7L6_-_ukvN_"
      },
      "execution_count": null,
      "outputs": []
    },
    {
      "cell_type": "markdown",
      "source": [],
      "metadata": {
        "id": "E9OG9f7yofHC"
      }
    },
    {
      "cell_type": "code",
      "source": [
        "#print the details of netflix titles with duration 1 season and rating is TV-MA\n",
        "df=df[(df['duration']=='1 Season') & (df['rating']=='TV-MA')][[\"title\"]]\n",
        "df"
      ],
      "metadata": {
        "id": "QdXADJ5gmlzW"
      },
      "execution_count": null,
      "outputs": []
    },
    {
      "cell_type": "code",
      "source": [
        "#print the details of netflix titles with latest release\n",
        "df.sort_values(by='release_year', ascending=False)[[\"title\"]]"
      ],
      "metadata": {
        "id": "3y_6b1tTomJA"
      },
      "execution_count": null,
      "outputs": []
    },
    {
      "cell_type": "code",
      "source": [
        "#print the details of netflix titles with oldest release\n",
        "df.sort_values(by='release_year', ascending=True)[[\"title\"]]"
      ],
      "metadata": {
        "id": "Eo_uH5X4WZWk"
      },
      "execution_count": null,
      "outputs": []
    },
    {
      "cell_type": "code",
      "source": [
        "#find latest released movie with Julien lecleracq as director\n",
        "df.loc[(df[\"director\"]==\"Julien Leclercq\")].sort_values(by='release_year',ascending=False).head(1)"
      ],
      "metadata": {
        "id": "x2kFSrtQW1DQ"
      },
      "execution_count": null,
      "outputs": []
    },
    {
      "cell_type": "code",
      "source": [
        "#print the show id and type of the netflix title whose release date lessthan 2020\n",
        "df.loc[(df[\"release_year\"]<2020)][[\"show_id\",\"type\"]]"
      ],
      "metadata": {
        "id": "trvnTT3eXYr0"
      },
      "execution_count": null,
      "outputs": []
    },
    {
      "cell_type": "code",
      "source": [
        "#find the oldest released movie with moviw  type with country southafrica and title Blood & water\n",
        "df.loc[(df[\"country\"]==\"South Africa\")&(df[\"title\"]==\"blood & water\")].sort_values(by='release_year',ascending=True)[[\"type\"]]"
      ],
      "metadata": {
        "id": "NatjnqjYXw-d"
      },
      "execution_count": null,
      "outputs": []
    },
    {
      "cell_type": "code",
      "source": [
        "#find the show_id and type of the netflix title of latest released show with duration 2 seasons which is a tv show\n",
        "df.loc[(df[\"duration\"]==\"2 Seasons\")&(df[\"type\"]==\"TV Show\")].sort_values(by='release_year',ascending=True)[[\"type\",\"show_id\"]].head(1)"
      ],
      "metadata": {
        "id": "OzU76z7RYWln"
      },
      "execution_count": null,
      "outputs": []
    },
    {
      "cell_type": "code",
      "source": [
        "#change the column name director and producer\n",
        "\n",
        "df.rename(columns={\"director\":\"Producer\"},inplace=True)\n",
        "df"
      ],
      "metadata": {
        "id": "9O82w9smYrh0"
      },
      "execution_count": null,
      "outputs": []
    },
    {
      "cell_type": "code",
      "source": [
        "import pandas as pd\n",
        "df=pd.read_csv(\"/netflix_titles.csv\")\n",
        "df"
      ],
      "metadata": {
        "id": "C_OjrDvSjm2H"
      },
      "execution_count": null,
      "outputs": []
    },
    {
      "cell_type": "code",
      "source": [
        "df.isna().sum()"
      ],
      "metadata": {
        "id": "5Nrvk6IXkICP"
      },
      "execution_count": null,
      "outputs": []
    },
    {
      "cell_type": "code",
      "source": [
        "df.drop([\"description\"],inplace=True,axis=1)"
      ],
      "metadata": {
        "id": "lXAsZ6XmkZ3s"
      },
      "execution_count": null,
      "outputs": []
    },
    {
      "cell_type": "code",
      "source": [
        "df"
      ],
      "metadata": {
        "id": "owmj4d6mkzRI"
      },
      "execution_count": null,
      "outputs": []
    },
    {
      "cell_type": "code",
      "source": [
        "x=df.iloc[:,0:10]\n",
        "x\n",
        "y=df.iloc[:,-1]\n",
        "y"
      ],
      "metadata": {
        "id": "0MtWlBcok5PY"
      },
      "execution_count": null,
      "outputs": []
    },
    {
      "cell_type": "code",
      "source": [
        "x=df.iloc[:,0]\n",
        "x\n",
        "y=df.iloc[:3]\n",
        "y\n",
        "x=df.drop([\"director\"],axis=1)\n",
        "x"
      ],
      "metadata": {
        "id": "tYfdb8xXm4qR"
      },
      "execution_count": null,
      "outputs": []
    },
    {
      "cell_type": "code",
      "source": [
        "import pandas as pd\n",
        "df=pd.read_csv(\"/Anime.csv\")\n",
        "df"
      ],
      "metadata": {
        "id": "BbuZNmCqnpxc"
      },
      "execution_count": null,
      "outputs": []
    },
    {
      "cell_type": "code",
      "source": [
        "df.isnull().sum()"
      ],
      "metadata": {
        "id": "9vO8Hh8woADb"
      },
      "execution_count": null,
      "outputs": []
    },
    {
      "cell_type": "code",
      "source": [
        "df.dropna(inplace=True)"
      ],
      "metadata": {
        "id": "iKuuyepwoEde"
      },
      "execution_count": null,
      "outputs": []
    },
    {
      "cell_type": "code",
      "source": [
        "df.isnull().sum()"
      ],
      "metadata": {
        "id": "aCqVSAo0oQy0"
      },
      "execution_count": null,
      "outputs": []
    },
    {
      "cell_type": "code",
      "source": [
        "df.reset_index(inplace=True)"
      ],
      "metadata": {
        "id": "M_K9Jvq_ocrj"
      },
      "execution_count": null,
      "outputs": []
    },
    {
      "cell_type": "code",
      "source": [
        "df"
      ],
      "metadata": {
        "id": "BhinTPW7ooU9"
      },
      "execution_count": null,
      "outputs": []
    },
    {
      "cell_type": "code",
      "source": [
        "import pandas as pd\n",
        "df=pd.read_csv(\"/Anime.csv\")\n",
        "df"
      ],
      "metadata": {
        "id": "9pO0BETgor1Y"
      },
      "execution_count": null,
      "outputs": []
    },
    {
      "cell_type": "code",
      "source": [
        "df.isnull().sum()"
      ],
      "metadata": {
        "id": "iBIkUqCgpB2x"
      },
      "execution_count": null,
      "outputs": []
    },
    {
      "cell_type": "code",
      "source": [
        "#mean 1 2 3 4 5 / 5\n",
        "#median 1 2 3 4 5 6 , 3+4/2 both mean and median only in numbers\n",
        "#mode 1 1 2 2 2 2 3 3 3 4 4 4 = 2(highest repeating number)\n",
        "      #1 1 2 2 3 3 3 4 4 4 4 = 3,4(can select one number)"
      ],
      "metadata": {
        "id": "fO7AyFVxsT0q"
      },
      "execution_count": null,
      "outputs": []
    },
    {
      "cell_type": "code",
      "source": [
        "df['Japanese_name'].value_counts()"
      ],
      "metadata": {
        "id": "9I9H9lzruQmL"
      },
      "execution_count": null,
      "outputs": []
    },
    {
      "cell_type": "code",
      "source": [
        "df[\"Japanese_name\"].fillna(\"unknown\",inplace=True)"
      ],
      "metadata": {
        "id": "hXpDhKExug9R"
      },
      "execution_count": null,
      "outputs": []
    },
    {
      "cell_type": "code",
      "source": [
        "df.isna().sum()"
      ],
      "metadata": {
        "id": "HLMgx5mdurkR"
      },
      "execution_count": null,
      "outputs": []
    },
    {
      "cell_type": "code",
      "source": [
        "df['Episodes'].value_counts()"
      ],
      "metadata": {
        "id": "WxYicDOYu9rL"
      },
      "execution_count": null,
      "outputs": []
    },
    {
      "cell_type": "code",
      "source": [
        "x=df['Episodes'].median()\n",
        "df['Episodes'].fillna(x,inplace=True)"
      ],
      "metadata": {
        "id": "-SJbozyfvPQq"
      },
      "execution_count": null,
      "outputs": []
    },
    {
      "cell_type": "code",
      "source": [
        "df.info()"
      ],
      "metadata": {
        "id": "KHXBbJWpvjKv"
      },
      "execution_count": null,
      "outputs": []
    },
    {
      "cell_type": "code",
      "source": [
        "df.isna().sum()"
      ],
      "metadata": {
        "id": "72uxTVV2vsFC"
      },
      "execution_count": null,
      "outputs": []
    },
    {
      "cell_type": "code",
      "source": [
        "df[\"Studio\"].value_counts()"
      ],
      "metadata": {
        "id": "502ioL01v7bS"
      },
      "execution_count": null,
      "outputs": []
    },
    {
      "cell_type": "code",
      "source": [
        "x=df['Studio'].mode()[0]\n",
        "x\n",
        "df['Studio'].fillna(x,inplace=True)"
      ],
      "metadata": {
        "id": "bhGyzzFQwejV"
      },
      "execution_count": null,
      "outputs": []
    },
    {
      "cell_type": "code",
      "source": [
        "df.isna().sum()"
      ],
      "metadata": {
        "id": "tHxRdYPCxJ1i"
      },
      "execution_count": null,
      "outputs": []
    },
    {
      "cell_type": "code",
      "source": [
        "df['Release_season'].value_counts()"
      ],
      "metadata": {
        "id": "uGy-wrbTxj9F"
      },
      "execution_count": null,
      "outputs": []
    },
    {
      "cell_type": "code",
      "source": [
        "df['Release_season'].fillna(df['Release_season'].mode()[0],inplace=True)"
      ],
      "metadata": {
        "id": "c20FFp1Nxrxi"
      },
      "execution_count": null,
      "outputs": []
    },
    {
      "cell_type": "code",
      "source": [
        "df.isna().sum()"
      ],
      "metadata": {
        "id": "TUiY5j_sx-YW"
      },
      "execution_count": null,
      "outputs": []
    },
    {
      "cell_type": "code",
      "source": [
        "df['Tags'].value_counts()"
      ],
      "metadata": {
        "id": "LK6irpb2yNDe"
      },
      "execution_count": null,
      "outputs": []
    },
    {
      "cell_type": "code",
      "source": [
        "df['Tags'].fillna(df['Tags'].mode()[0],inplace=True)"
      ],
      "metadata": {
        "id": "ZRUs4okGy496"
      },
      "execution_count": null,
      "outputs": []
    },
    {
      "cell_type": "code",
      "source": [
        "df.isna().sum()"
      ],
      "metadata": {
        "id": "XnJRPQm9zFmc"
      },
      "execution_count": null,
      "outputs": []
    },
    {
      "cell_type": "code",
      "source": [
        "df['Rating'].value_counts()"
      ],
      "metadata": {
        "id": "P6juS2A7zHfl"
      },
      "execution_count": null,
      "outputs": []
    },
    {
      "cell_type": "code",
      "source": [
        "df['Rating'].fillna(df['Rating'].mean(),inplace=True)"
      ],
      "metadata": {
        "id": "4WWukegLzNOJ"
      },
      "execution_count": null,
      "outputs": []
    },
    {
      "cell_type": "code",
      "source": [
        "df.isna().sum()"
      ],
      "metadata": {
        "id": "7mTMspxi036O"
      },
      "execution_count": null,
      "outputs": []
    },
    {
      "cell_type": "code",
      "source": [
        "df['Release_year'].value_counts()"
      ],
      "metadata": {
        "id": "JySax4rQzpy_"
      },
      "execution_count": null,
      "outputs": []
    },
    {
      "cell_type": "code",
      "source": [
        "df['Release_year'].fillna(df['Release_year'].mode()[0],inplace=True)"
      ],
      "metadata": {
        "id": "IXjlxin8zwWk"
      },
      "execution_count": null,
      "outputs": []
    },
    {
      "cell_type": "code",
      "source": [
        "df.isna().sum()"
      ],
      "metadata": {
        "id": "mIEQFcvPz4Js"
      },
      "execution_count": null,
      "outputs": []
    },
    {
      "cell_type": "code",
      "source": [
        "df['End_year'].value_counts()"
      ],
      "metadata": {
        "id": "X-ECwS4bz9Qu"
      },
      "execution_count": null,
      "outputs": []
    },
    {
      "cell_type": "code",
      "source": [
        "df['End_year'].fillna(df['End_year'].mode()[0],inplace=True)"
      ],
      "metadata": {
        "id": "UAuX4s510EUd"
      },
      "execution_count": null,
      "outputs": []
    },
    {
      "cell_type": "code",
      "source": [
        "df.isna().sum()"
      ],
      "metadata": {
        "id": "5TG-YMfx0QwI"
      },
      "execution_count": null,
      "outputs": []
    },
    {
      "cell_type": "code",
      "source": [
        "df"
      ],
      "metadata": {
        "id": "kGQf86aU1A7h"
      },
      "execution_count": null,
      "outputs": []
    },
    {
      "cell_type": "code",
      "source": [
        "x1=[7,7,3,1]\n",
        "x2=[7,4,4,4]\n",
        "y=[\"bad\",\"bad\",\"good\",\"good\"]\n",
        "\n",
        "X=zip(x1,x2)\n",
        "X=list(X)\n",
        "X"
      ],
      "metadata": {
        "id": "4NDTLIBtUfSY"
      },
      "execution_count": null,
      "outputs": []
    },
    {
      "cell_type": "code",
      "source": [
        "import pandas as pd\n",
        "d={\"x1\":[7,7,3,1],\"x2\":[7,4,4,4]}\n",
        "\n",
        "df=pd.DataFrame(d)\n",
        "df"
      ],
      "metadata": {
        "id": "Wvqnc10VXFRd"
      },
      "execution_count": null,
      "outputs": []
    },
    {
      "cell_type": "code",
      "source": [
        "from sklearn.neighbors import KNeighborsClassifier\n",
        "\n",
        "knn=KNeighborsClassifier(n_neighbors=3)\n",
        "knn.fit(df,y)"
      ],
      "metadata": {
        "id": "ziN4USfoXxVa"
      },
      "execution_count": null,
      "outputs": []
    },
    {
      "cell_type": "code",
      "source": [
        "knn.predict([[3,5]])"
      ],
      "metadata": {
        "id": "mm42I6yuYCeh"
      },
      "execution_count": null,
      "outputs": []
    },
    {
      "cell_type": "code",
      "source": [
        "from sklearn.neighbors import KNeighborsClassifier\n",
        "\n",
        "knn=KNeighborsClassifier(n_neighbors=3)\n",
        "knn.fit(X,y)"
      ],
      "metadata": {
        "id": "jgVQxyhIVk6o"
      },
      "execution_count": null,
      "outputs": []
    },
    {
      "cell_type": "code",
      "source": [
        "knn.predict([[3,7]])"
      ],
      "metadata": {
        "id": "P6xIVcLIWRQf"
      },
      "execution_count": null,
      "outputs": []
    },
    {
      "cell_type": "code",
      "source": [
        "import pandas as pd"
      ],
      "metadata": {
        "id": "l1elTvqHXpBW"
      },
      "execution_count": null,
      "outputs": []
    },
    {
      "cell_type": "code",
      "source": [
        "df=pd.read_csv(\"/content/drive/MyDrive/diabetes.csv\")"
      ],
      "metadata": {
        "id": "hjI20Qm7c7Y7"
      },
      "execution_count": 61,
      "outputs": []
    },
    {
      "cell_type": "code",
      "source": [
        "#eda\n",
        "df.head()"
      ],
      "metadata": {
        "id": "v9vi0xNgdKHZ",
        "colab": {
          "base_uri": "https://localhost:8080/",
          "height": 206
        },
        "outputId": "0cdcfdbd-8056-472a-be6a-ba1026ed0bdc"
      },
      "execution_count": 62,
      "outputs": [
        {
          "output_type": "execute_result",
          "data": {
            "text/plain": [
              "   Pregnancies  Glucose  BloodPressure  SkinThickness  Insulin   BMI  \\\n",
              "0            6      148             72             35        0  33.6   \n",
              "1            1       85             66             29        0  26.6   \n",
              "2            8      183             64              0        0  23.3   \n",
              "3            1       89             66             23       94  28.1   \n",
              "4            0      137             40             35      168  43.1   \n",
              "\n",
              "   DiabetesPedigreeFunction  Age  Outcome  \n",
              "0                     0.627   50        1  \n",
              "1                     0.351   31        0  \n",
              "2                     0.672   32        1  \n",
              "3                     0.167   21        0  \n",
              "4                     2.288   33        1  "
            ],
            "text/html": [
              "\n",
              "  <div id=\"df-f827c89a-6ab8-4215-a0fe-a652f680be9d\" class=\"colab-df-container\">\n",
              "    <div>\n",
              "<style scoped>\n",
              "    .dataframe tbody tr th:only-of-type {\n",
              "        vertical-align: middle;\n",
              "    }\n",
              "\n",
              "    .dataframe tbody tr th {\n",
              "        vertical-align: top;\n",
              "    }\n",
              "\n",
              "    .dataframe thead th {\n",
              "        text-align: right;\n",
              "    }\n",
              "</style>\n",
              "<table border=\"1\" class=\"dataframe\">\n",
              "  <thead>\n",
              "    <tr style=\"text-align: right;\">\n",
              "      <th></th>\n",
              "      <th>Pregnancies</th>\n",
              "      <th>Glucose</th>\n",
              "      <th>BloodPressure</th>\n",
              "      <th>SkinThickness</th>\n",
              "      <th>Insulin</th>\n",
              "      <th>BMI</th>\n",
              "      <th>DiabetesPedigreeFunction</th>\n",
              "      <th>Age</th>\n",
              "      <th>Outcome</th>\n",
              "    </tr>\n",
              "  </thead>\n",
              "  <tbody>\n",
              "    <tr>\n",
              "      <th>0</th>\n",
              "      <td>6</td>\n",
              "      <td>148</td>\n",
              "      <td>72</td>\n",
              "      <td>35</td>\n",
              "      <td>0</td>\n",
              "      <td>33.6</td>\n",
              "      <td>0.627</td>\n",
              "      <td>50</td>\n",
              "      <td>1</td>\n",
              "    </tr>\n",
              "    <tr>\n",
              "      <th>1</th>\n",
              "      <td>1</td>\n",
              "      <td>85</td>\n",
              "      <td>66</td>\n",
              "      <td>29</td>\n",
              "      <td>0</td>\n",
              "      <td>26.6</td>\n",
              "      <td>0.351</td>\n",
              "      <td>31</td>\n",
              "      <td>0</td>\n",
              "    </tr>\n",
              "    <tr>\n",
              "      <th>2</th>\n",
              "      <td>8</td>\n",
              "      <td>183</td>\n",
              "      <td>64</td>\n",
              "      <td>0</td>\n",
              "      <td>0</td>\n",
              "      <td>23.3</td>\n",
              "      <td>0.672</td>\n",
              "      <td>32</td>\n",
              "      <td>1</td>\n",
              "    </tr>\n",
              "    <tr>\n",
              "      <th>3</th>\n",
              "      <td>1</td>\n",
              "      <td>89</td>\n",
              "      <td>66</td>\n",
              "      <td>23</td>\n",
              "      <td>94</td>\n",
              "      <td>28.1</td>\n",
              "      <td>0.167</td>\n",
              "      <td>21</td>\n",
              "      <td>0</td>\n",
              "    </tr>\n",
              "    <tr>\n",
              "      <th>4</th>\n",
              "      <td>0</td>\n",
              "      <td>137</td>\n",
              "      <td>40</td>\n",
              "      <td>35</td>\n",
              "      <td>168</td>\n",
              "      <td>43.1</td>\n",
              "      <td>2.288</td>\n",
              "      <td>33</td>\n",
              "      <td>1</td>\n",
              "    </tr>\n",
              "  </tbody>\n",
              "</table>\n",
              "</div>\n",
              "    <div class=\"colab-df-buttons\">\n",
              "\n",
              "  <div class=\"colab-df-container\">\n",
              "    <button class=\"colab-df-convert\" onclick=\"convertToInteractive('df-f827c89a-6ab8-4215-a0fe-a652f680be9d')\"\n",
              "            title=\"Convert this dataframe to an interactive table.\"\n",
              "            style=\"display:none;\">\n",
              "\n",
              "  <svg xmlns=\"http://www.w3.org/2000/svg\" height=\"24px\" viewBox=\"0 -960 960 960\">\n",
              "    <path d=\"M120-120v-720h720v720H120Zm60-500h600v-160H180v160Zm220 220h160v-160H400v160Zm0 220h160v-160H400v160ZM180-400h160v-160H180v160Zm440 0h160v-160H620v160ZM180-180h160v-160H180v160Zm440 0h160v-160H620v160Z\"/>\n",
              "  </svg>\n",
              "    </button>\n",
              "\n",
              "  <style>\n",
              "    .colab-df-container {\n",
              "      display:flex;\n",
              "      gap: 12px;\n",
              "    }\n",
              "\n",
              "    .colab-df-convert {\n",
              "      background-color: #E8F0FE;\n",
              "      border: none;\n",
              "      border-radius: 50%;\n",
              "      cursor: pointer;\n",
              "      display: none;\n",
              "      fill: #1967D2;\n",
              "      height: 32px;\n",
              "      padding: 0 0 0 0;\n",
              "      width: 32px;\n",
              "    }\n",
              "\n",
              "    .colab-df-convert:hover {\n",
              "      background-color: #E2EBFA;\n",
              "      box-shadow: 0px 1px 2px rgba(60, 64, 67, 0.3), 0px 1px 3px 1px rgba(60, 64, 67, 0.15);\n",
              "      fill: #174EA6;\n",
              "    }\n",
              "\n",
              "    .colab-df-buttons div {\n",
              "      margin-bottom: 4px;\n",
              "    }\n",
              "\n",
              "    [theme=dark] .colab-df-convert {\n",
              "      background-color: #3B4455;\n",
              "      fill: #D2E3FC;\n",
              "    }\n",
              "\n",
              "    [theme=dark] .colab-df-convert:hover {\n",
              "      background-color: #434B5C;\n",
              "      box-shadow: 0px 1px 3px 1px rgba(0, 0, 0, 0.15);\n",
              "      filter: drop-shadow(0px 1px 2px rgba(0, 0, 0, 0.3));\n",
              "      fill: #FFFFFF;\n",
              "    }\n",
              "  </style>\n",
              "\n",
              "    <script>\n",
              "      const buttonEl =\n",
              "        document.querySelector('#df-f827c89a-6ab8-4215-a0fe-a652f680be9d button.colab-df-convert');\n",
              "      buttonEl.style.display =\n",
              "        google.colab.kernel.accessAllowed ? 'block' : 'none';\n",
              "\n",
              "      async function convertToInteractive(key) {\n",
              "        const element = document.querySelector('#df-f827c89a-6ab8-4215-a0fe-a652f680be9d');\n",
              "        const dataTable =\n",
              "          await google.colab.kernel.invokeFunction('convertToInteractive',\n",
              "                                                    [key], {});\n",
              "        if (!dataTable) return;\n",
              "\n",
              "        const docLinkHtml = 'Like what you see? Visit the ' +\n",
              "          '<a target=\"_blank\" href=https://colab.research.google.com/notebooks/data_table.ipynb>data table notebook</a>'\n",
              "          + ' to learn more about interactive tables.';\n",
              "        element.innerHTML = '';\n",
              "        dataTable['output_type'] = 'display_data';\n",
              "        await google.colab.output.renderOutput(dataTable, element);\n",
              "        const docLink = document.createElement('div');\n",
              "        docLink.innerHTML = docLinkHtml;\n",
              "        element.appendChild(docLink);\n",
              "      }\n",
              "    </script>\n",
              "  </div>\n",
              "\n",
              "\n",
              "    <div id=\"df-463873fe-8904-448f-9aea-15696f60a68e\">\n",
              "      <button class=\"colab-df-quickchart\" onclick=\"quickchart('df-463873fe-8904-448f-9aea-15696f60a68e')\"\n",
              "                title=\"Suggest charts\"\n",
              "                style=\"display:none;\">\n",
              "\n",
              "<svg xmlns=\"http://www.w3.org/2000/svg\" height=\"24px\"viewBox=\"0 0 24 24\"\n",
              "     width=\"24px\">\n",
              "    <g>\n",
              "        <path d=\"M19 3H5c-1.1 0-2 .9-2 2v14c0 1.1.9 2 2 2h14c1.1 0 2-.9 2-2V5c0-1.1-.9-2-2-2zM9 17H7v-7h2v7zm4 0h-2V7h2v10zm4 0h-2v-4h2v4z\"/>\n",
              "    </g>\n",
              "</svg>\n",
              "      </button>\n",
              "\n",
              "<style>\n",
              "  .colab-df-quickchart {\n",
              "      --bg-color: #E8F0FE;\n",
              "      --fill-color: #1967D2;\n",
              "      --hover-bg-color: #E2EBFA;\n",
              "      --hover-fill-color: #174EA6;\n",
              "      --disabled-fill-color: #AAA;\n",
              "      --disabled-bg-color: #DDD;\n",
              "  }\n",
              "\n",
              "  [theme=dark] .colab-df-quickchart {\n",
              "      --bg-color: #3B4455;\n",
              "      --fill-color: #D2E3FC;\n",
              "      --hover-bg-color: #434B5C;\n",
              "      --hover-fill-color: #FFFFFF;\n",
              "      --disabled-bg-color: #3B4455;\n",
              "      --disabled-fill-color: #666;\n",
              "  }\n",
              "\n",
              "  .colab-df-quickchart {\n",
              "    background-color: var(--bg-color);\n",
              "    border: none;\n",
              "    border-radius: 50%;\n",
              "    cursor: pointer;\n",
              "    display: none;\n",
              "    fill: var(--fill-color);\n",
              "    height: 32px;\n",
              "    padding: 0;\n",
              "    width: 32px;\n",
              "  }\n",
              "\n",
              "  .colab-df-quickchart:hover {\n",
              "    background-color: var(--hover-bg-color);\n",
              "    box-shadow: 0 1px 2px rgba(60, 64, 67, 0.3), 0 1px 3px 1px rgba(60, 64, 67, 0.15);\n",
              "    fill: var(--button-hover-fill-color);\n",
              "  }\n",
              "\n",
              "  .colab-df-quickchart-complete:disabled,\n",
              "  .colab-df-quickchart-complete:disabled:hover {\n",
              "    background-color: var(--disabled-bg-color);\n",
              "    fill: var(--disabled-fill-color);\n",
              "    box-shadow: none;\n",
              "  }\n",
              "\n",
              "  .colab-df-spinner {\n",
              "    border: 2px solid var(--fill-color);\n",
              "    border-color: transparent;\n",
              "    border-bottom-color: var(--fill-color);\n",
              "    animation:\n",
              "      spin 1s steps(1) infinite;\n",
              "  }\n",
              "\n",
              "  @keyframes spin {\n",
              "    0% {\n",
              "      border-color: transparent;\n",
              "      border-bottom-color: var(--fill-color);\n",
              "      border-left-color: var(--fill-color);\n",
              "    }\n",
              "    20% {\n",
              "      border-color: transparent;\n",
              "      border-left-color: var(--fill-color);\n",
              "      border-top-color: var(--fill-color);\n",
              "    }\n",
              "    30% {\n",
              "      border-color: transparent;\n",
              "      border-left-color: var(--fill-color);\n",
              "      border-top-color: var(--fill-color);\n",
              "      border-right-color: var(--fill-color);\n",
              "    }\n",
              "    40% {\n",
              "      border-color: transparent;\n",
              "      border-right-color: var(--fill-color);\n",
              "      border-top-color: var(--fill-color);\n",
              "    }\n",
              "    60% {\n",
              "      border-color: transparent;\n",
              "      border-right-color: var(--fill-color);\n",
              "    }\n",
              "    80% {\n",
              "      border-color: transparent;\n",
              "      border-right-color: var(--fill-color);\n",
              "      border-bottom-color: var(--fill-color);\n",
              "    }\n",
              "    90% {\n",
              "      border-color: transparent;\n",
              "      border-bottom-color: var(--fill-color);\n",
              "    }\n",
              "  }\n",
              "</style>\n",
              "\n",
              "      <script>\n",
              "        async function quickchart(key) {\n",
              "          const quickchartButtonEl =\n",
              "            document.querySelector('#' + key + ' button');\n",
              "          quickchartButtonEl.disabled = true;  // To prevent multiple clicks.\n",
              "          quickchartButtonEl.classList.add('colab-df-spinner');\n",
              "          try {\n",
              "            const charts = await google.colab.kernel.invokeFunction(\n",
              "                'suggestCharts', [key], {});\n",
              "          } catch (error) {\n",
              "            console.error('Error during call to suggestCharts:', error);\n",
              "          }\n",
              "          quickchartButtonEl.classList.remove('colab-df-spinner');\n",
              "          quickchartButtonEl.classList.add('colab-df-quickchart-complete');\n",
              "        }\n",
              "        (() => {\n",
              "          let quickchartButtonEl =\n",
              "            document.querySelector('#df-463873fe-8904-448f-9aea-15696f60a68e button');\n",
              "          quickchartButtonEl.style.display =\n",
              "            google.colab.kernel.accessAllowed ? 'block' : 'none';\n",
              "        })();\n",
              "      </script>\n",
              "    </div>\n",
              "\n",
              "    </div>\n",
              "  </div>\n"
            ],
            "application/vnd.google.colaboratory.intrinsic+json": {
              "type": "dataframe",
              "variable_name": "df",
              "summary": "{\n  \"name\": \"df\",\n  \"rows\": 768,\n  \"fields\": [\n    {\n      \"column\": \"Pregnancies\",\n      \"properties\": {\n        \"dtype\": \"number\",\n        \"std\": 3,\n        \"min\": 0,\n        \"max\": 17,\n        \"num_unique_values\": 17,\n        \"samples\": [\n          6,\n          1,\n          3\n        ],\n        \"semantic_type\": \"\",\n        \"description\": \"\"\n      }\n    },\n    {\n      \"column\": \"Glucose\",\n      \"properties\": {\n        \"dtype\": \"number\",\n        \"std\": 31,\n        \"min\": 0,\n        \"max\": 199,\n        \"num_unique_values\": 136,\n        \"samples\": [\n          151,\n          101,\n          112\n        ],\n        \"semantic_type\": \"\",\n        \"description\": \"\"\n      }\n    },\n    {\n      \"column\": \"BloodPressure\",\n      \"properties\": {\n        \"dtype\": \"number\",\n        \"std\": 19,\n        \"min\": 0,\n        \"max\": 122,\n        \"num_unique_values\": 47,\n        \"samples\": [\n          86,\n          46,\n          85\n        ],\n        \"semantic_type\": \"\",\n        \"description\": \"\"\n      }\n    },\n    {\n      \"column\": \"SkinThickness\",\n      \"properties\": {\n        \"dtype\": \"number\",\n        \"std\": 15,\n        \"min\": 0,\n        \"max\": 99,\n        \"num_unique_values\": 51,\n        \"samples\": [\n          7,\n          12,\n          48\n        ],\n        \"semantic_type\": \"\",\n        \"description\": \"\"\n      }\n    },\n    {\n      \"column\": \"Insulin\",\n      \"properties\": {\n        \"dtype\": \"number\",\n        \"std\": 115,\n        \"min\": 0,\n        \"max\": 846,\n        \"num_unique_values\": 186,\n        \"samples\": [\n          52,\n          41,\n          183\n        ],\n        \"semantic_type\": \"\",\n        \"description\": \"\"\n      }\n    },\n    {\n      \"column\": \"BMI\",\n      \"properties\": {\n        \"dtype\": \"number\",\n        \"std\": 7.8841603203754405,\n        \"min\": 0.0,\n        \"max\": 67.1,\n        \"num_unique_values\": 248,\n        \"samples\": [\n          19.9,\n          31.0,\n          38.1\n        ],\n        \"semantic_type\": \"\",\n        \"description\": \"\"\n      }\n    },\n    {\n      \"column\": \"DiabetesPedigreeFunction\",\n      \"properties\": {\n        \"dtype\": \"number\",\n        \"std\": 0.33132859501277484,\n        \"min\": 0.078,\n        \"max\": 2.42,\n        \"num_unique_values\": 517,\n        \"samples\": [\n          1.731,\n          0.426,\n          0.138\n        ],\n        \"semantic_type\": \"\",\n        \"description\": \"\"\n      }\n    },\n    {\n      \"column\": \"Age\",\n      \"properties\": {\n        \"dtype\": \"number\",\n        \"std\": 11,\n        \"min\": 21,\n        \"max\": 81,\n        \"num_unique_values\": 52,\n        \"samples\": [\n          60,\n          47,\n          72\n        ],\n        \"semantic_type\": \"\",\n        \"description\": \"\"\n      }\n    },\n    {\n      \"column\": \"Outcome\",\n      \"properties\": {\n        \"dtype\": \"number\",\n        \"std\": 0,\n        \"min\": 0,\n        \"max\": 1,\n        \"num_unique_values\": 2,\n        \"samples\": [\n          0,\n          1\n        ],\n        \"semantic_type\": \"\",\n        \"description\": \"\"\n      }\n    }\n  ]\n}"
            }
          },
          "metadata": {},
          "execution_count": 62
        }
      ]
    },
    {
      "cell_type": "code",
      "source": [
        "df.info()"
      ],
      "metadata": {
        "id": "wXuATlSbdSKf",
        "colab": {
          "base_uri": "https://localhost:8080/"
        },
        "outputId": "6c7e1985-30c3-4fd6-d71e-aea425df1eb7"
      },
      "execution_count": 63,
      "outputs": [
        {
          "output_type": "stream",
          "name": "stdout",
          "text": [
            "<class 'pandas.core.frame.DataFrame'>\n",
            "RangeIndex: 768 entries, 0 to 767\n",
            "Data columns (total 9 columns):\n",
            " #   Column                    Non-Null Count  Dtype  \n",
            "---  ------                    --------------  -----  \n",
            " 0   Pregnancies               768 non-null    int64  \n",
            " 1   Glucose                   768 non-null    int64  \n",
            " 2   BloodPressure             768 non-null    int64  \n",
            " 3   SkinThickness             768 non-null    int64  \n",
            " 4   Insulin                   768 non-null    int64  \n",
            " 5   BMI                       768 non-null    float64\n",
            " 6   DiabetesPedigreeFunction  768 non-null    float64\n",
            " 7   Age                       768 non-null    int64  \n",
            " 8   Outcome                   768 non-null    int64  \n",
            "dtypes: float64(2), int64(7)\n",
            "memory usage: 54.1 KB\n"
          ]
        }
      ]
    },
    {
      "cell_type": "code",
      "source": [
        "df.shape"
      ],
      "metadata": {
        "id": "7s9PMwpMdVW5",
        "colab": {
          "base_uri": "https://localhost:8080/"
        },
        "outputId": "7386537c-4cba-4f87-e1f1-02d659b7ee28"
      },
      "execution_count": 64,
      "outputs": [
        {
          "output_type": "execute_result",
          "data": {
            "text/plain": [
              "(768, 9)"
            ]
          },
          "metadata": {},
          "execution_count": 64
        }
      ]
    },
    {
      "cell_type": "code",
      "source": [
        "df.isna().sum()"
      ],
      "metadata": {
        "id": "332FBYDzeIdf",
        "colab": {
          "base_uri": "https://localhost:8080/",
          "height": 366
        },
        "outputId": "1ffbd4c6-33b5-49a3-b767-1f17dcb185ab"
      },
      "execution_count": 65,
      "outputs": [
        {
          "output_type": "execute_result",
          "data": {
            "text/plain": [
              "Pregnancies                 0\n",
              "Glucose                     0\n",
              "BloodPressure               0\n",
              "SkinThickness               0\n",
              "Insulin                     0\n",
              "BMI                         0\n",
              "DiabetesPedigreeFunction    0\n",
              "Age                         0\n",
              "Outcome                     0\n",
              "dtype: int64"
            ],
            "text/html": [
              "<div>\n",
              "<style scoped>\n",
              "    .dataframe tbody tr th:only-of-type {\n",
              "        vertical-align: middle;\n",
              "    }\n",
              "\n",
              "    .dataframe tbody tr th {\n",
              "        vertical-align: top;\n",
              "    }\n",
              "\n",
              "    .dataframe thead th {\n",
              "        text-align: right;\n",
              "    }\n",
              "</style>\n",
              "<table border=\"1\" class=\"dataframe\">\n",
              "  <thead>\n",
              "    <tr style=\"text-align: right;\">\n",
              "      <th></th>\n",
              "      <th>0</th>\n",
              "    </tr>\n",
              "  </thead>\n",
              "  <tbody>\n",
              "    <tr>\n",
              "      <th>Pregnancies</th>\n",
              "      <td>0</td>\n",
              "    </tr>\n",
              "    <tr>\n",
              "      <th>Glucose</th>\n",
              "      <td>0</td>\n",
              "    </tr>\n",
              "    <tr>\n",
              "      <th>BloodPressure</th>\n",
              "      <td>0</td>\n",
              "    </tr>\n",
              "    <tr>\n",
              "      <th>SkinThickness</th>\n",
              "      <td>0</td>\n",
              "    </tr>\n",
              "    <tr>\n",
              "      <th>Insulin</th>\n",
              "      <td>0</td>\n",
              "    </tr>\n",
              "    <tr>\n",
              "      <th>BMI</th>\n",
              "      <td>0</td>\n",
              "    </tr>\n",
              "    <tr>\n",
              "      <th>DiabetesPedigreeFunction</th>\n",
              "      <td>0</td>\n",
              "    </tr>\n",
              "    <tr>\n",
              "      <th>Age</th>\n",
              "      <td>0</td>\n",
              "    </tr>\n",
              "    <tr>\n",
              "      <th>Outcome</th>\n",
              "      <td>0</td>\n",
              "    </tr>\n",
              "  </tbody>\n",
              "</table>\n",
              "</div><br><label><b>dtype:</b> int64</label>"
            ]
          },
          "metadata": {},
          "execution_count": 65
        }
      ]
    },
    {
      "cell_type": "code",
      "source": [
        "X=df.iloc[:,0:8]\n",
        "y=df.iloc[:,-1]\n",
        "y"
      ],
      "metadata": {
        "id": "C2OuEkPGeLOC",
        "colab": {
          "base_uri": "https://localhost:8080/",
          "height": 458
        },
        "outputId": "53b92a3c-aa69-4795-c64c-eda36da186bf"
      },
      "execution_count": 66,
      "outputs": [
        {
          "output_type": "execute_result",
          "data": {
            "text/plain": [
              "0      1\n",
              "1      0\n",
              "2      1\n",
              "3      0\n",
              "4      1\n",
              "      ..\n",
              "763    0\n",
              "764    0\n",
              "765    0\n",
              "766    1\n",
              "767    0\n",
              "Name: Outcome, Length: 768, dtype: int64"
            ],
            "text/html": [
              "<div>\n",
              "<style scoped>\n",
              "    .dataframe tbody tr th:only-of-type {\n",
              "        vertical-align: middle;\n",
              "    }\n",
              "\n",
              "    .dataframe tbody tr th {\n",
              "        vertical-align: top;\n",
              "    }\n",
              "\n",
              "    .dataframe thead th {\n",
              "        text-align: right;\n",
              "    }\n",
              "</style>\n",
              "<table border=\"1\" class=\"dataframe\">\n",
              "  <thead>\n",
              "    <tr style=\"text-align: right;\">\n",
              "      <th></th>\n",
              "      <th>Outcome</th>\n",
              "    </tr>\n",
              "  </thead>\n",
              "  <tbody>\n",
              "    <tr>\n",
              "      <th>0</th>\n",
              "      <td>1</td>\n",
              "    </tr>\n",
              "    <tr>\n",
              "      <th>1</th>\n",
              "      <td>0</td>\n",
              "    </tr>\n",
              "    <tr>\n",
              "      <th>2</th>\n",
              "      <td>1</td>\n",
              "    </tr>\n",
              "    <tr>\n",
              "      <th>3</th>\n",
              "      <td>0</td>\n",
              "    </tr>\n",
              "    <tr>\n",
              "      <th>4</th>\n",
              "      <td>1</td>\n",
              "    </tr>\n",
              "    <tr>\n",
              "      <th>...</th>\n",
              "      <td>...</td>\n",
              "    </tr>\n",
              "    <tr>\n",
              "      <th>763</th>\n",
              "      <td>0</td>\n",
              "    </tr>\n",
              "    <tr>\n",
              "      <th>764</th>\n",
              "      <td>0</td>\n",
              "    </tr>\n",
              "    <tr>\n",
              "      <th>765</th>\n",
              "      <td>0</td>\n",
              "    </tr>\n",
              "    <tr>\n",
              "      <th>766</th>\n",
              "      <td>1</td>\n",
              "    </tr>\n",
              "    <tr>\n",
              "      <th>767</th>\n",
              "      <td>0</td>\n",
              "    </tr>\n",
              "  </tbody>\n",
              "</table>\n",
              "<p>768 rows × 1 columns</p>\n",
              "</div><br><label><b>dtype:</b> int64</label>"
            ]
          },
          "metadata": {},
          "execution_count": 66
        }
      ]
    },
    {
      "cell_type": "code",
      "source": [
        "from sklearn.model_selection import train_test_split\n",
        "\n",
        "X_train,X_test,y_train,y_test=train_test_split(X,y,test_size=0.2,random_state=42)"
      ],
      "metadata": {
        "id": "HKThBbagegg3"
      },
      "execution_count": 67,
      "outputs": []
    },
    {
      "cell_type": "code",
      "source": [
        "X_train.shape"
      ],
      "metadata": {
        "id": "c0DXKl_yqR2O",
        "colab": {
          "base_uri": "https://localhost:8080/"
        },
        "outputId": "10d27607-112b-4580-8c68-402ded2b5b5e"
      },
      "execution_count": 68,
      "outputs": [
        {
          "output_type": "execute_result",
          "data": {
            "text/plain": [
              "(614, 8)"
            ]
          },
          "metadata": {},
          "execution_count": 68
        }
      ]
    },
    {
      "cell_type": "code",
      "source": [
        "X_test.shape"
      ],
      "metadata": {
        "id": "7T_ECC0lqXp3",
        "colab": {
          "base_uri": "https://localhost:8080/"
        },
        "outputId": "83ed9778-3528-451e-d6e7-b2a33efe57b2"
      },
      "execution_count": 69,
      "outputs": [
        {
          "output_type": "execute_result",
          "data": {
            "text/plain": [
              "(154, 8)"
            ]
          },
          "metadata": {},
          "execution_count": 69
        }
      ]
    },
    {
      "cell_type": "code",
      "source": [
        "from sklearn.preprocessing import MinMaxScaler\n",
        "\n",
        "scaler=MinMaxScaler()\n",
        "\n",
        "X_train=scaler.fit_transform(X_train)\n",
        "X_train"
      ],
      "metadata": {
        "id": "GmaIHMrbqw9S",
        "colab": {
          "base_uri": "https://localhost:8080/"
        },
        "outputId": "952e9857-b329-4257-d3e2-eccd0a7d63ab"
      },
      "execution_count": 70,
      "outputs": [
        {
          "output_type": "execute_result",
          "data": {
            "text/plain": [
              "array([[0.11764706, 0.42211055, 0.        , ..., 0.        , 0.09649872,\n",
              "        0.        ],\n",
              "       [0.52941176, 0.56281407, 0.67213115, ..., 0.42026826, 0.51409052,\n",
              "        0.48333333],\n",
              "       [0.05882353, 0.69849246, 0.37704918, ..., 0.42771982, 0.24594364,\n",
              "        0.01666667],\n",
              "       ...,\n",
              "       [0.58823529, 0.50753769, 0.70491803, ..., 0.67958271, 0.45175064,\n",
              "        0.28333333],\n",
              "       [0.        , 0.70854271, 0.        , ..., 0.6318927 , 0.05422716,\n",
              "        0.13333333],\n",
              "       [0.        , 0.6281407 , 0.78688525, ..., 0.33532042, 0.07856533,\n",
              "        0.        ]])"
            ]
          },
          "metadata": {},
          "execution_count": 70
        }
      ]
    },
    {
      "cell_type": "code",
      "source": [
        "X_test=scaler.transform(X_test)\n",
        "X_test"
      ],
      "metadata": {
        "id": "mPIFvLfPFRy3",
        "colab": {
          "base_uri": "https://localhost:8080/"
        },
        "outputId": "cf38b7ab-13af-4d58-b94a-d6620607ca23"
      },
      "execution_count": 71,
      "outputs": [
        {
          "output_type": "execute_result",
          "data": {
            "text/plain": [
              "array([[0.35294118, 0.49246231, 0.47540984, ..., 0.50670641, 0.15029889,\n",
              "        0.36666667],\n",
              "       [0.11764706, 0.56281407, 0.6147541 , ..., 0.53204173, 0.02988898,\n",
              "        0.        ],\n",
              "       [0.11764706, 0.54271357, 0.52459016, ..., 0.45901639, 0.03415884,\n",
              "        0.        ],\n",
              "       ...,\n",
              "       [0.47058824, 0.47738693, 0.59016393, ..., 0.54843517, 0.17378309,\n",
              "        0.6       ],\n",
              "       [0.11764706, 0.73366834, 0.57377049, ..., 0.41728763, 0.11058924,\n",
              "        0.13333333],\n",
              "       [0.47058824, 0.3718593 , 0.57377049, ..., 0.52608048, 0.2677199 ,\n",
              "        0.3       ]])"
            ]
          },
          "metadata": {},
          "execution_count": 71
        }
      ]
    },
    {
      "cell_type": "code",
      "source": [
        "from sklearn.neighbors import KNeighborsClassifier\n",
        "\n",
        "knn=KNeighborsClassifier(n_neighbors=5)\n",
        "knn.fit(X_train,y_train)"
      ],
      "metadata": {
        "id": "J-sA8nOqFl8p",
        "colab": {
          "base_uri": "https://localhost:8080/",
          "height": 80
        },
        "outputId": "78d7d0e1-f349-4188-f69a-1a6067be9481"
      },
      "execution_count": 72,
      "outputs": [
        {
          "output_type": "execute_result",
          "data": {
            "text/plain": [
              "KNeighborsClassifier()"
            ],
            "text/html": [
              "<style>#sk-container-id-1 {\n",
              "  /* Definition of color scheme common for light and dark mode */\n",
              "  --sklearn-color-text: #000;\n",
              "  --sklearn-color-text-muted: #666;\n",
              "  --sklearn-color-line: gray;\n",
              "  /* Definition of color scheme for unfitted estimators */\n",
              "  --sklearn-color-unfitted-level-0: #fff5e6;\n",
              "  --sklearn-color-unfitted-level-1: #f6e4d2;\n",
              "  --sklearn-color-unfitted-level-2: #ffe0b3;\n",
              "  --sklearn-color-unfitted-level-3: chocolate;\n",
              "  /* Definition of color scheme for fitted estimators */\n",
              "  --sklearn-color-fitted-level-0: #f0f8ff;\n",
              "  --sklearn-color-fitted-level-1: #d4ebff;\n",
              "  --sklearn-color-fitted-level-2: #b3dbfd;\n",
              "  --sklearn-color-fitted-level-3: cornflowerblue;\n",
              "\n",
              "  /* Specific color for light theme */\n",
              "  --sklearn-color-text-on-default-background: var(--sg-text-color, var(--theme-code-foreground, var(--jp-content-font-color1, black)));\n",
              "  --sklearn-color-background: var(--sg-background-color, var(--theme-background, var(--jp-layout-color0, white)));\n",
              "  --sklearn-color-border-box: var(--sg-text-color, var(--theme-code-foreground, var(--jp-content-font-color1, black)));\n",
              "  --sklearn-color-icon: #696969;\n",
              "\n",
              "  @media (prefers-color-scheme: dark) {\n",
              "    /* Redefinition of color scheme for dark theme */\n",
              "    --sklearn-color-text-on-default-background: var(--sg-text-color, var(--theme-code-foreground, var(--jp-content-font-color1, white)));\n",
              "    --sklearn-color-background: var(--sg-background-color, var(--theme-background, var(--jp-layout-color0, #111)));\n",
              "    --sklearn-color-border-box: var(--sg-text-color, var(--theme-code-foreground, var(--jp-content-font-color1, white)));\n",
              "    --sklearn-color-icon: #878787;\n",
              "  }\n",
              "}\n",
              "\n",
              "#sk-container-id-1 {\n",
              "  color: var(--sklearn-color-text);\n",
              "}\n",
              "\n",
              "#sk-container-id-1 pre {\n",
              "  padding: 0;\n",
              "}\n",
              "\n",
              "#sk-container-id-1 input.sk-hidden--visually {\n",
              "  border: 0;\n",
              "  clip: rect(1px 1px 1px 1px);\n",
              "  clip: rect(1px, 1px, 1px, 1px);\n",
              "  height: 1px;\n",
              "  margin: -1px;\n",
              "  overflow: hidden;\n",
              "  padding: 0;\n",
              "  position: absolute;\n",
              "  width: 1px;\n",
              "}\n",
              "\n",
              "#sk-container-id-1 div.sk-dashed-wrapped {\n",
              "  border: 1px dashed var(--sklearn-color-line);\n",
              "  margin: 0 0.4em 0.5em 0.4em;\n",
              "  box-sizing: border-box;\n",
              "  padding-bottom: 0.4em;\n",
              "  background-color: var(--sklearn-color-background);\n",
              "}\n",
              "\n",
              "#sk-container-id-1 div.sk-container {\n",
              "  /* jupyter's `normalize.less` sets `[hidden] { display: none; }`\n",
              "     but bootstrap.min.css set `[hidden] { display: none !important; }`\n",
              "     so we also need the `!important` here to be able to override the\n",
              "     default hidden behavior on the sphinx rendered scikit-learn.org.\n",
              "     See: https://github.com/scikit-learn/scikit-learn/issues/21755 */\n",
              "  display: inline-block !important;\n",
              "  position: relative;\n",
              "}\n",
              "\n",
              "#sk-container-id-1 div.sk-text-repr-fallback {\n",
              "  display: none;\n",
              "}\n",
              "\n",
              "div.sk-parallel-item,\n",
              "div.sk-serial,\n",
              "div.sk-item {\n",
              "  /* draw centered vertical line to link estimators */\n",
              "  background-image: linear-gradient(var(--sklearn-color-text-on-default-background), var(--sklearn-color-text-on-default-background));\n",
              "  background-size: 2px 100%;\n",
              "  background-repeat: no-repeat;\n",
              "  background-position: center center;\n",
              "}\n",
              "\n",
              "/* Parallel-specific style estimator block */\n",
              "\n",
              "#sk-container-id-1 div.sk-parallel-item::after {\n",
              "  content: \"\";\n",
              "  width: 100%;\n",
              "  border-bottom: 2px solid var(--sklearn-color-text-on-default-background);\n",
              "  flex-grow: 1;\n",
              "}\n",
              "\n",
              "#sk-container-id-1 div.sk-parallel {\n",
              "  display: flex;\n",
              "  align-items: stretch;\n",
              "  justify-content: center;\n",
              "  background-color: var(--sklearn-color-background);\n",
              "  position: relative;\n",
              "}\n",
              "\n",
              "#sk-container-id-1 div.sk-parallel-item {\n",
              "  display: flex;\n",
              "  flex-direction: column;\n",
              "}\n",
              "\n",
              "#sk-container-id-1 div.sk-parallel-item:first-child::after {\n",
              "  align-self: flex-end;\n",
              "  width: 50%;\n",
              "}\n",
              "\n",
              "#sk-container-id-1 div.sk-parallel-item:last-child::after {\n",
              "  align-self: flex-start;\n",
              "  width: 50%;\n",
              "}\n",
              "\n",
              "#sk-container-id-1 div.sk-parallel-item:only-child::after {\n",
              "  width: 0;\n",
              "}\n",
              "\n",
              "/* Serial-specific style estimator block */\n",
              "\n",
              "#sk-container-id-1 div.sk-serial {\n",
              "  display: flex;\n",
              "  flex-direction: column;\n",
              "  align-items: center;\n",
              "  background-color: var(--sklearn-color-background);\n",
              "  padding-right: 1em;\n",
              "  padding-left: 1em;\n",
              "}\n",
              "\n",
              "\n",
              "/* Toggleable style: style used for estimator/Pipeline/ColumnTransformer box that is\n",
              "clickable and can be expanded/collapsed.\n",
              "- Pipeline and ColumnTransformer use this feature and define the default style\n",
              "- Estimators will overwrite some part of the style using the `sk-estimator` class\n",
              "*/\n",
              "\n",
              "/* Pipeline and ColumnTransformer style (default) */\n",
              "\n",
              "#sk-container-id-1 div.sk-toggleable {\n",
              "  /* Default theme specific background. It is overwritten whether we have a\n",
              "  specific estimator or a Pipeline/ColumnTransformer */\n",
              "  background-color: var(--sklearn-color-background);\n",
              "}\n",
              "\n",
              "/* Toggleable label */\n",
              "#sk-container-id-1 label.sk-toggleable__label {\n",
              "  cursor: pointer;\n",
              "  display: flex;\n",
              "  width: 100%;\n",
              "  margin-bottom: 0;\n",
              "  padding: 0.5em;\n",
              "  box-sizing: border-box;\n",
              "  text-align: center;\n",
              "  align-items: start;\n",
              "  justify-content: space-between;\n",
              "  gap: 0.5em;\n",
              "}\n",
              "\n",
              "#sk-container-id-1 label.sk-toggleable__label .caption {\n",
              "  font-size: 0.6rem;\n",
              "  font-weight: lighter;\n",
              "  color: var(--sklearn-color-text-muted);\n",
              "}\n",
              "\n",
              "#sk-container-id-1 label.sk-toggleable__label-arrow:before {\n",
              "  /* Arrow on the left of the label */\n",
              "  content: \"▸\";\n",
              "  float: left;\n",
              "  margin-right: 0.25em;\n",
              "  color: var(--sklearn-color-icon);\n",
              "}\n",
              "\n",
              "#sk-container-id-1 label.sk-toggleable__label-arrow:hover:before {\n",
              "  color: var(--sklearn-color-text);\n",
              "}\n",
              "\n",
              "/* Toggleable content - dropdown */\n",
              "\n",
              "#sk-container-id-1 div.sk-toggleable__content {\n",
              "  max-height: 0;\n",
              "  max-width: 0;\n",
              "  overflow: hidden;\n",
              "  text-align: left;\n",
              "  /* unfitted */\n",
              "  background-color: var(--sklearn-color-unfitted-level-0);\n",
              "}\n",
              "\n",
              "#sk-container-id-1 div.sk-toggleable__content.fitted {\n",
              "  /* fitted */\n",
              "  background-color: var(--sklearn-color-fitted-level-0);\n",
              "}\n",
              "\n",
              "#sk-container-id-1 div.sk-toggleable__content pre {\n",
              "  margin: 0.2em;\n",
              "  border-radius: 0.25em;\n",
              "  color: var(--sklearn-color-text);\n",
              "  /* unfitted */\n",
              "  background-color: var(--sklearn-color-unfitted-level-0);\n",
              "}\n",
              "\n",
              "#sk-container-id-1 div.sk-toggleable__content.fitted pre {\n",
              "  /* unfitted */\n",
              "  background-color: var(--sklearn-color-fitted-level-0);\n",
              "}\n",
              "\n",
              "#sk-container-id-1 input.sk-toggleable__control:checked~div.sk-toggleable__content {\n",
              "  /* Expand drop-down */\n",
              "  max-height: 200px;\n",
              "  max-width: 100%;\n",
              "  overflow: auto;\n",
              "}\n",
              "\n",
              "#sk-container-id-1 input.sk-toggleable__control:checked~label.sk-toggleable__label-arrow:before {\n",
              "  content: \"▾\";\n",
              "}\n",
              "\n",
              "/* Pipeline/ColumnTransformer-specific style */\n",
              "\n",
              "#sk-container-id-1 div.sk-label input.sk-toggleable__control:checked~label.sk-toggleable__label {\n",
              "  color: var(--sklearn-color-text);\n",
              "  background-color: var(--sklearn-color-unfitted-level-2);\n",
              "}\n",
              "\n",
              "#sk-container-id-1 div.sk-label.fitted input.sk-toggleable__control:checked~label.sk-toggleable__label {\n",
              "  background-color: var(--sklearn-color-fitted-level-2);\n",
              "}\n",
              "\n",
              "/* Estimator-specific style */\n",
              "\n",
              "/* Colorize estimator box */\n",
              "#sk-container-id-1 div.sk-estimator input.sk-toggleable__control:checked~label.sk-toggleable__label {\n",
              "  /* unfitted */\n",
              "  background-color: var(--sklearn-color-unfitted-level-2);\n",
              "}\n",
              "\n",
              "#sk-container-id-1 div.sk-estimator.fitted input.sk-toggleable__control:checked~label.sk-toggleable__label {\n",
              "  /* fitted */\n",
              "  background-color: var(--sklearn-color-fitted-level-2);\n",
              "}\n",
              "\n",
              "#sk-container-id-1 div.sk-label label.sk-toggleable__label,\n",
              "#sk-container-id-1 div.sk-label label {\n",
              "  /* The background is the default theme color */\n",
              "  color: var(--sklearn-color-text-on-default-background);\n",
              "}\n",
              "\n",
              "/* On hover, darken the color of the background */\n",
              "#sk-container-id-1 div.sk-label:hover label.sk-toggleable__label {\n",
              "  color: var(--sklearn-color-text);\n",
              "  background-color: var(--sklearn-color-unfitted-level-2);\n",
              "}\n",
              "\n",
              "/* Label box, darken color on hover, fitted */\n",
              "#sk-container-id-1 div.sk-label.fitted:hover label.sk-toggleable__label.fitted {\n",
              "  color: var(--sklearn-color-text);\n",
              "  background-color: var(--sklearn-color-fitted-level-2);\n",
              "}\n",
              "\n",
              "/* Estimator label */\n",
              "\n",
              "#sk-container-id-1 div.sk-label label {\n",
              "  font-family: monospace;\n",
              "  font-weight: bold;\n",
              "  display: inline-block;\n",
              "  line-height: 1.2em;\n",
              "}\n",
              "\n",
              "#sk-container-id-1 div.sk-label-container {\n",
              "  text-align: center;\n",
              "}\n",
              "\n",
              "/* Estimator-specific */\n",
              "#sk-container-id-1 div.sk-estimator {\n",
              "  font-family: monospace;\n",
              "  border: 1px dotted var(--sklearn-color-border-box);\n",
              "  border-radius: 0.25em;\n",
              "  box-sizing: border-box;\n",
              "  margin-bottom: 0.5em;\n",
              "  /* unfitted */\n",
              "  background-color: var(--sklearn-color-unfitted-level-0);\n",
              "}\n",
              "\n",
              "#sk-container-id-1 div.sk-estimator.fitted {\n",
              "  /* fitted */\n",
              "  background-color: var(--sklearn-color-fitted-level-0);\n",
              "}\n",
              "\n",
              "/* on hover */\n",
              "#sk-container-id-1 div.sk-estimator:hover {\n",
              "  /* unfitted */\n",
              "  background-color: var(--sklearn-color-unfitted-level-2);\n",
              "}\n",
              "\n",
              "#sk-container-id-1 div.sk-estimator.fitted:hover {\n",
              "  /* fitted */\n",
              "  background-color: var(--sklearn-color-fitted-level-2);\n",
              "}\n",
              "\n",
              "/* Specification for estimator info (e.g. \"i\" and \"?\") */\n",
              "\n",
              "/* Common style for \"i\" and \"?\" */\n",
              "\n",
              ".sk-estimator-doc-link,\n",
              "a:link.sk-estimator-doc-link,\n",
              "a:visited.sk-estimator-doc-link {\n",
              "  float: right;\n",
              "  font-size: smaller;\n",
              "  line-height: 1em;\n",
              "  font-family: monospace;\n",
              "  background-color: var(--sklearn-color-background);\n",
              "  border-radius: 1em;\n",
              "  height: 1em;\n",
              "  width: 1em;\n",
              "  text-decoration: none !important;\n",
              "  margin-left: 0.5em;\n",
              "  text-align: center;\n",
              "  /* unfitted */\n",
              "  border: var(--sklearn-color-unfitted-level-1) 1pt solid;\n",
              "  color: var(--sklearn-color-unfitted-level-1);\n",
              "}\n",
              "\n",
              ".sk-estimator-doc-link.fitted,\n",
              "a:link.sk-estimator-doc-link.fitted,\n",
              "a:visited.sk-estimator-doc-link.fitted {\n",
              "  /* fitted */\n",
              "  border: var(--sklearn-color-fitted-level-1) 1pt solid;\n",
              "  color: var(--sklearn-color-fitted-level-1);\n",
              "}\n",
              "\n",
              "/* On hover */\n",
              "div.sk-estimator:hover .sk-estimator-doc-link:hover,\n",
              ".sk-estimator-doc-link:hover,\n",
              "div.sk-label-container:hover .sk-estimator-doc-link:hover,\n",
              ".sk-estimator-doc-link:hover {\n",
              "  /* unfitted */\n",
              "  background-color: var(--sklearn-color-unfitted-level-3);\n",
              "  color: var(--sklearn-color-background);\n",
              "  text-decoration: none;\n",
              "}\n",
              "\n",
              "div.sk-estimator.fitted:hover .sk-estimator-doc-link.fitted:hover,\n",
              ".sk-estimator-doc-link.fitted:hover,\n",
              "div.sk-label-container:hover .sk-estimator-doc-link.fitted:hover,\n",
              ".sk-estimator-doc-link.fitted:hover {\n",
              "  /* fitted */\n",
              "  background-color: var(--sklearn-color-fitted-level-3);\n",
              "  color: var(--sklearn-color-background);\n",
              "  text-decoration: none;\n",
              "}\n",
              "\n",
              "/* Span, style for the box shown on hovering the info icon */\n",
              ".sk-estimator-doc-link span {\n",
              "  display: none;\n",
              "  z-index: 9999;\n",
              "  position: relative;\n",
              "  font-weight: normal;\n",
              "  right: .2ex;\n",
              "  padding: .5ex;\n",
              "  margin: .5ex;\n",
              "  width: min-content;\n",
              "  min-width: 20ex;\n",
              "  max-width: 50ex;\n",
              "  color: var(--sklearn-color-text);\n",
              "  box-shadow: 2pt 2pt 4pt #999;\n",
              "  /* unfitted */\n",
              "  background: var(--sklearn-color-unfitted-level-0);\n",
              "  border: .5pt solid var(--sklearn-color-unfitted-level-3);\n",
              "}\n",
              "\n",
              ".sk-estimator-doc-link.fitted span {\n",
              "  /* fitted */\n",
              "  background: var(--sklearn-color-fitted-level-0);\n",
              "  border: var(--sklearn-color-fitted-level-3);\n",
              "}\n",
              "\n",
              ".sk-estimator-doc-link:hover span {\n",
              "  display: block;\n",
              "}\n",
              "\n",
              "/* \"?\"-specific style due to the `<a>` HTML tag */\n",
              "\n",
              "#sk-container-id-1 a.estimator_doc_link {\n",
              "  float: right;\n",
              "  font-size: 1rem;\n",
              "  line-height: 1em;\n",
              "  font-family: monospace;\n",
              "  background-color: var(--sklearn-color-background);\n",
              "  border-radius: 1rem;\n",
              "  height: 1rem;\n",
              "  width: 1rem;\n",
              "  text-decoration: none;\n",
              "  /* unfitted */\n",
              "  color: var(--sklearn-color-unfitted-level-1);\n",
              "  border: var(--sklearn-color-unfitted-level-1) 1pt solid;\n",
              "}\n",
              "\n",
              "#sk-container-id-1 a.estimator_doc_link.fitted {\n",
              "  /* fitted */\n",
              "  border: var(--sklearn-color-fitted-level-1) 1pt solid;\n",
              "  color: var(--sklearn-color-fitted-level-1);\n",
              "}\n",
              "\n",
              "/* On hover */\n",
              "#sk-container-id-1 a.estimator_doc_link:hover {\n",
              "  /* unfitted */\n",
              "  background-color: var(--sklearn-color-unfitted-level-3);\n",
              "  color: var(--sklearn-color-background);\n",
              "  text-decoration: none;\n",
              "}\n",
              "\n",
              "#sk-container-id-1 a.estimator_doc_link.fitted:hover {\n",
              "  /* fitted */\n",
              "  background-color: var(--sklearn-color-fitted-level-3);\n",
              "}\n",
              "</style><div id=\"sk-container-id-1\" class=\"sk-top-container\"><div class=\"sk-text-repr-fallback\"><pre>KNeighborsClassifier()</pre><b>In a Jupyter environment, please rerun this cell to show the HTML representation or trust the notebook. <br />On GitHub, the HTML representation is unable to render, please try loading this page with nbviewer.org.</b></div><div class=\"sk-container\" hidden><div class=\"sk-item\"><div class=\"sk-estimator fitted sk-toggleable\"><input class=\"sk-toggleable__control sk-hidden--visually\" id=\"sk-estimator-id-1\" type=\"checkbox\" checked><label for=\"sk-estimator-id-1\" class=\"sk-toggleable__label fitted sk-toggleable__label-arrow\"><div><div>KNeighborsClassifier</div></div><div><a class=\"sk-estimator-doc-link fitted\" rel=\"noreferrer\" target=\"_blank\" href=\"https://scikit-learn.org/1.6/modules/generated/sklearn.neighbors.KNeighborsClassifier.html\">?<span>Documentation for KNeighborsClassifier</span></a><span class=\"sk-estimator-doc-link fitted\">i<span>Fitted</span></span></div></label><div class=\"sk-toggleable__content fitted\"><pre>KNeighborsClassifier()</pre></div> </div></div></div></div>"
            ]
          },
          "metadata": {},
          "execution_count": 72
        }
      ]
    },
    {
      "cell_type": "code",
      "source": [
        "y_predict=knn.predict(X_test)"
      ],
      "metadata": {
        "id": "3k7sl1p3J9Wk"
      },
      "execution_count": 73,
      "outputs": []
    },
    {
      "cell_type": "code",
      "source": [
        "y_test.values"
      ],
      "metadata": {
        "id": "qDvY3pckKYBe",
        "colab": {
          "base_uri": "https://localhost:8080/"
        },
        "outputId": "af6f4763-9a29-4835-fe26-7256f9d7d246"
      },
      "execution_count": 74,
      "outputs": [
        {
          "output_type": "execute_result",
          "data": {
            "text/plain": [
              "array([0, 0, 0, 0, 0, 0, 0, 0, 0, 0, 1, 0, 1, 0, 0, 1, 0, 0, 1, 1, 0, 0,\n",
              "       0, 0, 0, 1, 0, 0, 1, 0, 1, 1, 1, 1, 0, 1, 1, 1, 0, 1, 0, 0, 0, 1,\n",
              "       0, 1, 1, 0, 0, 0, 0, 1, 1, 1, 0, 0, 0, 0, 0, 1, 1, 0, 0, 1, 0, 0,\n",
              "       0, 1, 0, 1, 0, 0, 0, 1, 0, 0, 0, 0, 0, 0, 1, 1, 0, 0, 0, 1, 1, 1,\n",
              "       0, 0, 0, 0, 0, 1, 0, 0, 0, 0, 1, 0, 0, 0, 1, 0, 1, 0, 0, 1, 1, 1,\n",
              "       0, 0, 0, 1, 0, 0, 1, 0, 0, 0, 0, 0, 1, 0, 0, 0, 1, 1, 1, 0, 1, 1,\n",
              "       0, 1, 1, 0, 1, 1, 1, 0, 0, 0, 0, 0, 0, 0, 1, 0, 0, 1, 0, 0, 1, 0])"
            ]
          },
          "metadata": {},
          "execution_count": 74
        }
      ]
    },
    {
      "cell_type": "code",
      "source": [
        "from sklearn.metrics import accuracy_score\n",
        "\n",
        "ac=accuracy_score(y_test,y_predict)\n",
        "ac"
      ],
      "metadata": {
        "id": "_wfndRO6LNeY",
        "colab": {
          "base_uri": "https://localhost:8080/"
        },
        "outputId": "6c206642-2723-4bea-e417-17baecfcce29"
      },
      "execution_count": 75,
      "outputs": [
        {
          "output_type": "execute_result",
          "data": {
            "text/plain": [
              "0.6818181818181818"
            ]
          },
          "metadata": {},
          "execution_count": 75
        }
      ]
    },
    {
      "cell_type": "code",
      "source": [
        "from sklearn.metrics import confusion_matrix\n",
        "cm=confusion_matrix(y_test,y_predict)\n",
        "cm"
      ],
      "metadata": {
        "id": "l8OKW0PENC2h",
        "colab": {
          "base_uri": "https://localhost:8080/"
        },
        "outputId": "70dabf26-a5e1-4cd9-d1db-9dcbfa60caf2"
      },
      "execution_count": 76,
      "outputs": [
        {
          "output_type": "execute_result",
          "data": {
            "text/plain": [
              "array([[76, 23],\n",
              "       [26, 29]])"
            ]
          },
          "metadata": {},
          "execution_count": 76
        }
      ]
    },
    {
      "cell_type": "code",
      "source": [
        "from sklearn.metrics import ConfusionMatrixDisplay\n",
        "\n",
        "cm_display=ConfusionMatrixDisplay.from_predictions(y_test,y_predict)\n",
        "cm"
      ],
      "metadata": {
        "id": "5EX5o83uOWlU",
        "colab": {
          "base_uri": "https://localhost:8080/",
          "height": 484
        },
        "outputId": "fd4b5eed-85b9-44a1-db2e-b2577352d22b"
      },
      "execution_count": 77,
      "outputs": [
        {
          "output_type": "execute_result",
          "data": {
            "text/plain": [
              "array([[76, 23],\n",
              "       [26, 29]])"
            ]
          },
          "metadata": {},
          "execution_count": 77
        },
        {
          "output_type": "display_data",
          "data": {
            "text/plain": [
              "<Figure size 640x480 with 2 Axes>"
            ],
            "image/png": "[encoded data removed]"
          },
          "metadata": {}
        }
      ]
    },
    {
      "cell_type": "code",
      "source": [
        "#true label is the actual output\n",
        "#predicted label is the predicted output by the machine\n",
        "\n",
        "# 0 -> negative class\n",
        "# 1 -> positive class\n",
        "\n",
        "#if actualoutput is 0 and machine predicts 0 then it is True Negative TN\n",
        "#if actualoutput is 1 and machine predicts 0 then it is False Negative FN\n",
        "\n",
        "#if actualoutput is 1 and machine predicts 1 then it is True Positive TP\n",
        "#if actualoutput is 0 and machine predicts 1 then it is False Positive FP\n",
        "\n",
        "# accuracy = (TP+TN) / (TP+TN+FP+FN)\n"
      ],
      "metadata": {
        "id": "8nHFPJarPGBZ"
      },
      "execution_count": null,
      "outputs": []
    },
    {
      "cell_type": "code",
      "source": [
        "#accuracy is used to balance the dataset. so we can predict output based on the accuracy"
      ],
      "metadata": {
        "id": "vS40dvPaWi8A"
      },
      "execution_count": null,
      "outputs": []
    },
    {
      "cell_type": "code",
      "source": [
        "#for imbalanced dataset,predictions cannot be based only on accuracy but also other factors are required"
      ],
      "metadata": {
        "id": "u7xnQaldWzKJ"
      },
      "execution_count": null,
      "outputs": []
    },
    {
      "cell_type": "code",
      "source": [
        "# recall= TP / TP+FN"
      ],
      "metadata": {
        "id": "D4emTtnMXiZw"
      },
      "execution_count": null,
      "outputs": []
    },
    {
      "cell_type": "code",
      "source": [
        "from sklearn.metrics import classification_report\n",
        "print(cm)\n",
        "\n",
        "cr=classification_report(y_test,y_predict)\n",
        "print(cr)"
      ],
      "metadata": {
        "id": "krKZh8y2a5Ih",
        "colab": {
          "base_uri": "https://localhost:8080/"
        },
        "outputId": "9335acf7-952a-4a2a-a838-4bf2c744fc72"
      },
      "execution_count": 79,
      "outputs": [
        {
          "output_type": "stream",
          "name": "stdout",
          "text": [
            "[[76 23]\n",
            " [26 29]]\n",
            "              precision    recall  f1-score   support\n",
            "\n",
            "           0       0.75      0.77      0.76        99\n",
            "           1       0.56      0.53      0.54        55\n",
            "\n",
            "    accuracy                           0.68       154\n",
            "   macro avg       0.65      0.65      0.65       154\n",
            "weighted avg       0.68      0.68      0.68       154\n",
            "\n"
          ]
        }
      ]
    },
    {
      "cell_type": "code",
      "source": [],
      "metadata": {
        "id": "0wlGMw5kbvo-"
      },
      "execution_count": null,
      "outputs": []
    }
  ]
}